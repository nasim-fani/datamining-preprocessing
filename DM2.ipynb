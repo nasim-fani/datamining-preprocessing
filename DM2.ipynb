{
  "nbformat": 4,
  "nbformat_minor": 0,
  "metadata": {
    "colab": {
      "name": "DM2.ipynb",
      "provenance": [],
      "collapsed_sections": [],
      "mount_file_id": "1BWd-YKHFY5mssR7XVEBltcO_3J11u0PB",
      "authorship_tag": "ABX9TyMj7K9nkL7UcGsJut/A0FSr",
      "include_colab_link": true
    },
    "kernelspec": {
      "name": "python3",
      "display_name": "Python 3"
    },
    "language_info": {
      "name": "python"
    }
  },
  "cells": [
    {
      "cell_type": "markdown",
      "metadata": {
        "id": "view-in-github",
        "colab_type": "text"
      },
      "source": [
        "<a href=\"https://colab.research.google.com/github/nasim-fani/datamining-preprocessing/blob/main/DM2.ipynb\" target=\"_parent\"><img src=\"https://colab.research.google.com/assets/colab-badge.svg\" alt=\"Open In Colab\"/></a>"
      ]
    },
    {
      "cell_type": "markdown",
      "metadata": {
        "id": "KZgRKAwxFmbX"
      },
      "source": [
        "**Install and import libraries**"
      ]
    },
    {
      "cell_type": "code",
      "metadata": {
        "id": "brLQTnq9DimR",
        "colab": {
          "base_uri": "https://localhost:8080/"
        },
        "outputId": "d6d62bfd-8d65-49f5-8575-73a90b3067dc"
      },
      "source": [
        "!pip install apyori\n",
        "!pip install xlrd\n"
      ],
      "execution_count": null,
      "outputs": [
        {
          "output_type": "stream",
          "text": [
            "Collecting apyori\n",
            "  Downloading https://files.pythonhosted.org/packages/5e/62/5ffde5c473ea4b033490617ec5caa80d59804875ad3c3c57c0976533a21a/apyori-1.1.2.tar.gz\n",
            "Building wheels for collected packages: apyori\n",
            "  Building wheel for apyori (setup.py) ... \u001b[?25l\u001b[?25hdone\n",
            "  Created wheel for apyori: filename=apyori-1.1.2-cp37-none-any.whl size=5975 sha256=3a725befd41c97146faa58bc6071e2e905c647a962ed18e4d5f8d324e6d02b91\n",
            "  Stored in directory: /root/.cache/pip/wheels/5d/92/bb/474bbadbc8c0062b9eb168f69982a0443263f8ab1711a8cad0\n",
            "Successfully built apyori\n",
            "Installing collected packages: apyori\n",
            "Successfully installed apyori-1.1.2\n",
            "Requirement already satisfied: xlrd in /usr/local/lib/python3.7/dist-packages (1.1.0)\n"
          ],
          "name": "stdout"
        }
      ]
    },
    {
      "cell_type": "code",
      "metadata": {
        "id": "TJL7hLWNNNQc"
      },
      "source": [
        "import numpy as np\n",
        "import matplotlib.pyplot as plt\n",
        "import pandas as pd\n",
        "from apyori import apriori\n",
        "import xlrd\n",
        "import csv"
      ],
      "execution_count": null,
      "outputs": []
    },
    {
      "cell_type": "markdown",
      "metadata": {
        "id": "kEiQerndF8Jr"
      },
      "source": [
        "**Unrar datasets**"
      ]
    },
    {
      "cell_type": "code",
      "metadata": {
        "id": "PhmbOLhNFrsG"
      },
      "source": [
        "get_ipython().system_raw(\"unrar x /content/drive/MyDrive/divar_dataset.rar\")\n"
      ],
      "execution_count": null,
      "outputs": []
    },
    {
      "cell_type": "code",
      "metadata": {
        "id": "yFmDH47udUO4"
      },
      "source": [
        "get_ipython().system_raw(\"unrar x /content/drive/MyDrive/digikala_dataset.rar\")"
      ],
      "execution_count": null,
      "outputs": []
    },
    {
      "cell_type": "markdown",
      "metadata": {
        "id": "Qw3TsC3_GZi8"
      },
      "source": [
        "**Convert .xlsx to .csv**"
      ]
    },
    {
      "cell_type": "code",
      "metadata": {
        "id": "vmhcMXp1csBj"
      },
      "source": [
        "def csv_from_excel(file_name):\n",
        "    wb = xlrd.open_workbook(file_name +'.xlsx')\n",
        "    sh = wb.sheet_by_name('Sheet1')\n",
        "    your_csv_file = open(file_name+'.csv', 'w')\n",
        "    wr = csv.writer(your_csv_file, quoting=csv.QUOTE_ALL)\n",
        "\n",
        "    for rownum in range(sh.nrows):\n",
        "        wr.writerow(sh.row_values(rownum))\n",
        "\n",
        "    your_csv_file.close()\n",
        "\n",
        "csv_from_excel('product')\n",
        "csv_from_excel('keifiat')\n",
        "# csv_from_excel('comment')\n"
      ],
      "execution_count": null,
      "outputs": []
    },
    {
      "cell_type": "markdown",
      "metadata": {
        "id": "GkQflYzxGHpe"
      },
      "source": [
        "**Read datasets**"
      ]
    },
    {
      "cell_type": "code",
      "metadata": {
        "id": "An10W0YBQfv8"
      },
      "source": [
        "divar_data = pd.read_csv('divar_posts_dataset.csv')\n",
        "\n"
      ],
      "execution_count": null,
      "outputs": []
    },
    {
      "cell_type": "code",
      "metadata": {
        "colab": {
          "base_uri": "https://localhost:8080/",
          "height": 526
        },
        "id": "hc7rQTJgQ8ch",
        "outputId": "602452b8-466b-4da9-ec31-e2eecb1a5254"
      },
      "source": [
        "divar_data.head()"
      ],
      "execution_count": null,
      "outputs": [
        {
          "output_type": "execute_result",
          "data": {
            "text/html": [
              "<div>\n",
              "<style scoped>\n",
              "    .dataframe tbody tr th:only-of-type {\n",
              "        vertical-align: middle;\n",
              "    }\n",
              "\n",
              "    .dataframe tbody tr th {\n",
              "        vertical-align: top;\n",
              "    }\n",
              "\n",
              "    .dataframe thead th {\n",
              "        text-align: right;\n",
              "    }\n",
              "</style>\n",
              "<table border=\"1\" class=\"dataframe\">\n",
              "  <thead>\n",
              "    <tr style=\"text-align: right;\">\n",
              "      <th></th>\n",
              "      <th>Unnamed: 0</th>\n",
              "      <th>archive_by_user</th>\n",
              "      <th>brand</th>\n",
              "      <th>cat1</th>\n",
              "      <th>cat2</th>\n",
              "      <th>cat3</th>\n",
              "      <th>city</th>\n",
              "      <th>created_at</th>\n",
              "      <th>desc</th>\n",
              "      <th>id</th>\n",
              "      <th>image_count</th>\n",
              "      <th>mileage</th>\n",
              "      <th>platform</th>\n",
              "      <th>price</th>\n",
              "      <th>title</th>\n",
              "      <th>type</th>\n",
              "      <th>year</th>\n",
              "    </tr>\n",
              "  </thead>\n",
              "  <tbody>\n",
              "    <tr>\n",
              "      <th>0</th>\n",
              "      <td>0</td>\n",
              "      <td>False</td>\n",
              "      <td>NaN</td>\n",
              "      <td>for-the-home</td>\n",
              "      <td>furniture-and-home-decore</td>\n",
              "      <td>sofa-armchair</td>\n",
              "      <td>Tehran</td>\n",
              "      <td>Tuesday 07PM</td>\n",
              "      <td>کلاسیک و شیک و استثنایی\\nچرم مالزی\\nچوب راش\\nف...</td>\n",
              "      <td>54761638662241</td>\n",
              "      <td>5</td>\n",
              "      <td>NaN</td>\n",
              "      <td>mobile</td>\n",
              "      <td>3850000</td>\n",
              "      <td>ست مبلمان و نهارخوری ٩ نفره</td>\n",
              "      <td>NaN</td>\n",
              "      <td>NaN</td>\n",
              "    </tr>\n",
              "    <tr>\n",
              "      <th>1</th>\n",
              "      <td>1</td>\n",
              "      <td>False</td>\n",
              "      <td>NaN</td>\n",
              "      <td>for-the-home</td>\n",
              "      <td>furniture-and-home-decore</td>\n",
              "      <td>antiques-and-art</td>\n",
              "      <td>Mashhad</td>\n",
              "      <td>Tuesday 07PM</td>\n",
              "      <td>سلام,یک عدد گلدون نخل سه طبقه ی سالم دارم با پ...</td>\n",
              "      <td>42727631379133</td>\n",
              "      <td>1</td>\n",
              "      <td>NaN</td>\n",
              "      <td>mobile</td>\n",
              "      <td>30000</td>\n",
              "      <td>گلدون مصنوعی نخل</td>\n",
              "      <td>NaN</td>\n",
              "      <td>NaN</td>\n",
              "    </tr>\n",
              "    <tr>\n",
              "      <th>2</th>\n",
              "      <td>2</td>\n",
              "      <td>False</td>\n",
              "      <td>NaN</td>\n",
              "      <td>vehicles</td>\n",
              "      <td>cars</td>\n",
              "      <td>heavy</td>\n",
              "      <td>Mashhad</td>\n",
              "      <td>Tuesday 07PM</td>\n",
              "      <td>سریال 43j$NUMبدون شکستگی سه حلقه لاستیک نو یک ...</td>\n",
              "      <td>63194439667302</td>\n",
              "      <td>4</td>\n",
              "      <td>NaN</td>\n",
              "      <td>mobile</td>\n",
              "      <td>-1</td>\n",
              "      <td>لودر کاتر پیلار 950</td>\n",
              "      <td>NaN</td>\n",
              "      <td>NaN</td>\n",
              "    </tr>\n",
              "    <tr>\n",
              "      <th>3</th>\n",
              "      <td>3</td>\n",
              "      <td>False</td>\n",
              "      <td>NaN</td>\n",
              "      <td>for-the-home</td>\n",
              "      <td>furniture-and-home-decore</td>\n",
              "      <td>sofa-armchair</td>\n",
              "      <td>Tehran</td>\n",
              "      <td>Tuesday 07PM</td>\n",
              "      <td>مبل راحتی هفت نفره شامل سه نفره یک عدد دونفره ...</td>\n",
              "      <td>19133025491169</td>\n",
              "      <td>4</td>\n",
              "      <td>NaN</td>\n",
              "      <td>mobile</td>\n",
              "      <td>600000</td>\n",
              "      <td>مبل راحتی هفت نفره بامیز جلو مبلی</td>\n",
              "      <td>NaN</td>\n",
              "      <td>NaN</td>\n",
              "    </tr>\n",
              "    <tr>\n",
              "      <th>4</th>\n",
              "      <td>4</td>\n",
              "      <td>False</td>\n",
              "      <td>NaN</td>\n",
              "      <td>personal</td>\n",
              "      <td>baby-and-toys</td>\n",
              "      <td>personal-toys</td>\n",
              "      <td>Karaj</td>\n",
              "      <td>Tuesday 08PM</td>\n",
              "      <td>شارژی کنترلی سویچ حمل تا 35 کیلو صندلی برای دو...</td>\n",
              "      <td>58998998335444</td>\n",
              "      <td>2</td>\n",
              "      <td>NaN</td>\n",
              "      <td>mobile</td>\n",
              "      <td>450000</td>\n",
              "      <td>ماشین شارژی</td>\n",
              "      <td>NaN</td>\n",
              "      <td>NaN</td>\n",
              "    </tr>\n",
              "  </tbody>\n",
              "</table>\n",
              "</div>"
            ],
            "text/plain": [
              "   Unnamed: 0  archive_by_user  ... type year\n",
              "0           0            False  ...  NaN  NaN\n",
              "1           1            False  ...  NaN  NaN\n",
              "2           2            False  ...  NaN  NaN\n",
              "3           3            False  ...  NaN  NaN\n",
              "4           4            False  ...  NaN  NaN\n",
              "\n",
              "[5 rows x 17 columns]"
            ]
          },
          "metadata": {
            "tags": []
          },
          "execution_count": 8
        }
      ]
    },
    {
      "cell_type": "code",
      "metadata": {
        "id": "sII63pVgHpv3"
      },
      "source": [
        "digikala_product = pd.read_csv('product.csv',dtype={\"product_attributes\": \"string\"})\n"
      ],
      "execution_count": null,
      "outputs": []
    },
    {
      "cell_type": "code",
      "metadata": {
        "colab": {
          "base_uri": "https://localhost:8080/",
          "height": 559
        },
        "id": "2IZcBc_7GPVI",
        "outputId": "1e47f164-29a8-40d4-a9bb-1691ffa0538d"
      },
      "source": [
        "digikala_product.head()"
      ],
      "execution_count": null,
      "outputs": [
        {
          "output_type": "execute_result",
          "data": {
            "text/html": [
              "<div>\n",
              "<style scoped>\n",
              "    .dataframe tbody tr th:only-of-type {\n",
              "        vertical-align: middle;\n",
              "    }\n",
              "\n",
              "    .dataframe tbody tr th {\n",
              "        vertical-align: top;\n",
              "    }\n",
              "\n",
              "    .dataframe thead th {\n",
              "        text-align: right;\n",
              "    }\n",
              "</style>\n",
              "<table border=\"1\" class=\"dataframe\">\n",
              "  <thead>\n",
              "    <tr style=\"text-align: right;\">\n",
              "      <th></th>\n",
              "      <th>id</th>\n",
              "      <th>product_title_fa</th>\n",
              "      <th>product_title_en</th>\n",
              "      <th>url_code</th>\n",
              "      <th>title_alt</th>\n",
              "      <th>category_title_fa</th>\n",
              "      <th>category_keywords</th>\n",
              "      <th>brand_name_fa</th>\n",
              "      <th>brand_name_en</th>\n",
              "      <th>product_attributes</th>\n",
              "    </tr>\n",
              "  </thead>\n",
              "  <tbody>\n",
              "    <tr>\n",
              "      <th>0</th>\n",
              "      <td>723302.0</td>\n",
              "      <td>ماگ حرارتی لومانا مدل عرفانه کد MAG1042</td>\n",
              "      <td>NaN</td>\n",
              "      <td>ماگ-حرارتی-لومانا-مدل-عرفانه-کد-mag1042</td>\n",
              "      <td>mug، لیوان ، ماگ ، فنجان ، لیوان دسته دار ، لو...</td>\n",
              "      <td>ماگ، لیوان و فنجان</td>\n",
              "      <td>ماگ، لیوان و فنجان CupandMug</td>\n",
              "      <td>لومانا</td>\n",
              "      <td>Lomana</td>\n",
              "      <td>[{\"Key\":\"وزن بسته‌بندی\",\"Value\":\"480\"},{\"Key\":...</td>\n",
              "    </tr>\n",
              "    <tr>\n",
              "      <th>1</th>\n",
              "      <td>727089.0</td>\n",
              "      <td>ست آبکش و آبگیر تیتیز مدل AP-9141 سایز متوسط</td>\n",
              "      <td>NaN</td>\n",
              "      <td>ست-آبکش-و-آبگیر-تیتیز-مدل-ap-9141-سایز-متوسط</td>\n",
              "      <td>;hsi, steel, کاسه، کاسه بامبو، لگن، کالا خانه ...</td>\n",
              "      <td>آبکش و آبگیر</td>\n",
              "      <td>آبکش و آبگیر VirgoBasin</td>\n",
              "      <td>تیتیز</td>\n",
              "      <td>Titiz</td>\n",
              "      <td>[{\"Key\":\"دستگیره\",\"Value\":\"1 جفت\"},{\"Key\":\"نوع...</td>\n",
              "    </tr>\n",
              "    <tr>\n",
              "      <th>2</th>\n",
              "      <td>727096.0</td>\n",
              "      <td>روغن مرطوب کننده کدلی مدل Divine oil حجم 50 می...</td>\n",
              "      <td>NaN</td>\n",
              "      <td>روغن-مرطوب-کننده-کدلی-مدل-divine-oil-حجم-50-می...</td>\n",
              "      <td>NaN</td>\n",
              "      <td>روغن صورت</td>\n",
              "      <td>روغن صورت Face-Oil</td>\n",
              "      <td>کدلی</td>\n",
              "      <td>CAUDALIE</td>\n",
              "      <td>[{\"Key\":\"حجم\",\"Value\":\"50\"},{\"Key\":\"نوع عصاره\"...</td>\n",
              "    </tr>\n",
              "    <tr>\n",
              "      <th>3</th>\n",
              "      <td>727803.0</td>\n",
              "      <td>ست لحاف پوپلین هوبی مدل اما یکنفره چهار تکه کاوری</td>\n",
              "      <td>Hobby Emma Quilt Single Set - 4 Pieces</td>\n",
              "      <td>ست-لحاف-پوپلین-هوبی-مدل-اما-یکنفره-چهار-تکه-کاوری</td>\n",
              "      <td>روتختی اسپرت، اما، emma، روتختی یکنفره، لحاف ی...</td>\n",
              "      <td>سرویس خواب</td>\n",
              "      <td>سرویس خواب SleepSet</td>\n",
              "      <td>هوبی</td>\n",
              "      <td>Hobby</td>\n",
              "      <td>[{\"Key\":\"ابعاد رو بالشی\",\"Value\":\"50×70\"},{\"Ke...</td>\n",
              "    </tr>\n",
              "    <tr>\n",
              "      <th>4</th>\n",
              "      <td>725222.0</td>\n",
              "      <td>ماگ آبنبات رنگی مدل AR0143</td>\n",
              "      <td>NaN</td>\n",
              "      <td>ماگ-آبنبات-رنگی-مدل-ar0143</td>\n",
              "      <td>ماگ آبنبات رنگی،شذدشذشفقشدله،Mag Abnabatrangi</td>\n",
              "      <td>ماگ، لیوان و فنجان</td>\n",
              "      <td>ماگ، لیوان و فنجان CupandMug</td>\n",
              "      <td>متفرقه</td>\n",
              "      <td>Miscellaneous</td>\n",
              "      <td>[{\"Key\":\"در\",\"Value\":\"ندارد\"},{\"Key\":\"جنس\",\"Va...</td>\n",
              "    </tr>\n",
              "  </tbody>\n",
              "</table>\n",
              "</div>"
            ],
            "text/plain": [
              "         id  ...                                 product_attributes\n",
              "0  723302.0  ...  [{\"Key\":\"وزن بسته‌بندی\",\"Value\":\"480\"},{\"Key\":...\n",
              "1  727089.0  ...  [{\"Key\":\"دستگیره\",\"Value\":\"1 جفت\"},{\"Key\":\"نوع...\n",
              "2  727096.0  ...  [{\"Key\":\"حجم\",\"Value\":\"50\"},{\"Key\":\"نوع عصاره\"...\n",
              "3  727803.0  ...  [{\"Key\":\"ابعاد رو بالشی\",\"Value\":\"50×70\"},{\"Ke...\n",
              "4  725222.0  ...  [{\"Key\":\"در\",\"Value\":\"ندارد\"},{\"Key\":\"جنس\",\"Va...\n",
              "\n",
              "[5 rows x 10 columns]"
            ]
          },
          "metadata": {
            "tags": []
          },
          "execution_count": 10
        }
      ]
    },
    {
      "cell_type": "code",
      "metadata": {
        "id": "0QfKgwNMHtaD"
      },
      "source": [
        "digikala_keifiat = pd.read_csv('keifiat.csv')\n"
      ],
      "execution_count": null,
      "outputs": []
    },
    {
      "cell_type": "code",
      "metadata": {
        "colab": {
          "base_uri": "https://localhost:8080/",
          "height": 542
        },
        "id": "f11YISpOI59F",
        "outputId": "6888aee7-f15f-4add-f140-bb775a2fd39e"
      },
      "source": [
        "digikala_keifiat.head()"
      ],
      "execution_count": null,
      "outputs": [
        {
          "output_type": "execute_result",
          "data": {
            "text/html": [
              "<div>\n",
              "<style scoped>\n",
              "    .dataframe tbody tr th:only-of-type {\n",
              "        vertical-align: middle;\n",
              "    }\n",
              "\n",
              "    .dataframe tbody tr th {\n",
              "        vertical-align: top;\n",
              "    }\n",
              "\n",
              "    .dataframe thead th {\n",
              "        text-align: right;\n",
              "    }\n",
              "</style>\n",
              "<table border=\"1\" class=\"dataframe\">\n",
              "  <thead>\n",
              "    <tr style=\"text-align: right;\">\n",
              "      <th></th>\n",
              "      <th>product_id</th>\n",
              "      <th>product_title</th>\n",
              "      <th>title_en</th>\n",
              "      <th>user_id</th>\n",
              "      <th>likes</th>\n",
              "      <th>dislikes</th>\n",
              "      <th>verification_status</th>\n",
              "      <th>recommend</th>\n",
              "      <th>title</th>\n",
              "      <th>comment</th>\n",
              "      <th>advantages</th>\n",
              "      <th>disadvantages</th>\n",
              "    </tr>\n",
              "  </thead>\n",
              "  <tbody>\n",
              "    <tr>\n",
              "      <th>0</th>\n",
              "      <td>3692.0</td>\n",
              "      <td>ماوس بی‌سیم لاجیتک مدل M325</td>\n",
              "      <td>IT</td>\n",
              "      <td>989472.0</td>\n",
              "      <td>0.0</td>\n",
              "      <td>0.0</td>\n",
              "      <td>verified</td>\n",
              "      <td>\\N</td>\n",
              "      <td>NaN</td>\n",
              "      <td>واقعا عالیه. من که ازش خیلی راضیم</td>\n",
              "      <td>NaN</td>\n",
              "      <td>NaN</td>\n",
              "    </tr>\n",
              "    <tr>\n",
              "      <th>1</th>\n",
              "      <td>90213.0</td>\n",
              "      <td>شارژر همراه شیاومی مدل NDY-02-AN با ظرفیت 1000...</td>\n",
              "      <td>AC</td>\n",
              "      <td>3862150.0</td>\n",
              "      <td>4.0</td>\n",
              "      <td>1.0</td>\n",
              "      <td>verified</td>\n",
              "      <td>recommended</td>\n",
              "      <td>واقعاً عالیه</td>\n",
              "      <td>سلام، قبل اینکه نظرم رو بگم میخواستم به یک موض...</td>\n",
              "      <td>[\"عمر طولانی\\r\",\"افت بسیار کم میزان شارژ\\r\",\"ا...</td>\n",
              "      <td>[\"ندارد\"]</td>\n",
              "    </tr>\n",
              "    <tr>\n",
              "      <th>2</th>\n",
              "      <td>59473.0</td>\n",
              "      <td>یدک پولیشر میکروفایبر مهسان مدل 20119</td>\n",
              "      <td>HW</td>\n",
              "      <td>626843.0</td>\n",
              "      <td>1.0</td>\n",
              "      <td>0.0</td>\n",
              "      <td>verified</td>\n",
              "      <td>not_recommended</td>\n",
              "      <td>خیلی سخت حوله اش در میاد</td>\n",
              "      <td>گیره های فلزی خیلی سخت تا میشوند و لذا حوله را...</td>\n",
              "      <td>NaN</td>\n",
              "      <td>NaN</td>\n",
              "    </tr>\n",
              "    <tr>\n",
              "      <th>3</th>\n",
              "      <td>120499.0</td>\n",
              "      <td>گوشی موبایل هوآوی آنر مدل 5X KIW-L21 دو سیم‌کارت</td>\n",
              "      <td>MO</td>\n",
              "      <td>786887.0</td>\n",
              "      <td>6.0</td>\n",
              "      <td>11.0</td>\n",
              "      <td>verified</td>\n",
              "      <td>no_idea</td>\n",
              "      <td>گوشی مقرون به صرفه</td>\n",
              "      <td>همه چیز در رابطه با ظاهر این گوشی بسیار خوب اس...</td>\n",
              "      <td>[\"صفحه نمایش پرنور و با کیفیت\\r\",\"کیفیت بالای ...</td>\n",
              "      <td>[\"کیفیت پایین اسپیکر\\r\",\"حاشیه خالی زیر صفحه ن...</td>\n",
              "    </tr>\n",
              "    <tr>\n",
              "      <th>4</th>\n",
              "      <td>67200.0</td>\n",
              "      <td>شارژر همراه شیائومی مدل Mi ظرفیت 5000 میلی آمپ...</td>\n",
              "      <td>AC</td>\n",
              "      <td>854531.0</td>\n",
              "      <td>19.0</td>\n",
              "      <td>4.0</td>\n",
              "      <td>verified</td>\n",
              "      <td>no_idea</td>\n",
              "      <td>ابعاد، استحکام و نگهداری شارژ مناسب</td>\n",
              "      <td>اگر ظرفیتش براتون کافیه حتما بخرید.\\r\\nیه شارژ...</td>\n",
              "      <td>[\"ظریف و زیبا و باریک\\r\",\"بدنه محکم و با دوام\"]</td>\n",
              "      <td>[\"ظرفیت متوسط\"]</td>\n",
              "    </tr>\n",
              "  </tbody>\n",
              "</table>\n",
              "</div>"
            ],
            "text/plain": [
              "   product_id  ...                                      disadvantages\n",
              "0      3692.0  ...                                                NaN\n",
              "1     90213.0  ...                                          [\"ندارد\"]\n",
              "2     59473.0  ...                                                NaN\n",
              "3    120499.0  ...  [\"کیفیت پایین اسپیکر\\r\",\"حاشیه خالی زیر صفحه ن...\n",
              "4     67200.0  ...                                    [\"ظرفیت متوسط\"]\n",
              "\n",
              "[5 rows x 12 columns]"
            ]
          },
          "metadata": {
            "tags": []
          },
          "execution_count": 12
        }
      ]
    },
    {
      "cell_type": "code",
      "metadata": {
        "id": "402tV_HIHve_"
      },
      "source": [
        "digikala_orders = pd.read_csv('orders.csv')"
      ],
      "execution_count": null,
      "outputs": []
    },
    {
      "cell_type": "code",
      "metadata": {
        "colab": {
          "base_uri": "https://localhost:8080/",
          "height": 203
        },
        "id": "3oRumcZ7Jj3R",
        "outputId": "5fef8c79-77fa-44f6-823c-f7d9c31c3df2"
      },
      "source": [
        "digikala_orders.head()"
      ],
      "execution_count": null,
      "outputs": [
        {
          "output_type": "execute_result",
          "data": {
            "text/html": [
              "<div>\n",
              "<style scoped>\n",
              "    .dataframe tbody tr th:only-of-type {\n",
              "        vertical-align: middle;\n",
              "    }\n",
              "\n",
              "    .dataframe tbody tr th {\n",
              "        vertical-align: top;\n",
              "    }\n",
              "\n",
              "    .dataframe thead th {\n",
              "        text-align: right;\n",
              "    }\n",
              "</style>\n",
              "<table border=\"1\" class=\"dataframe\">\n",
              "  <thead>\n",
              "    <tr style=\"text-align: right;\">\n",
              "      <th></th>\n",
              "      <th>ID_Order</th>\n",
              "      <th>ID_Customer</th>\n",
              "      <th>ID_Item</th>\n",
              "      <th>DateTime_CartFinalize</th>\n",
              "      <th>Amount_Gross_Order</th>\n",
              "      <th>city_name_fa</th>\n",
              "      <th>Quantity_item</th>\n",
              "    </tr>\n",
              "  </thead>\n",
              "  <tbody>\n",
              "    <tr>\n",
              "      <th>0</th>\n",
              "      <td>2714054</td>\n",
              "      <td>469662</td>\n",
              "      <td>21386</td>\n",
              "      <td>2015-10-15 08:50:56.000</td>\n",
              "      <td>597982.0</td>\n",
              "      <td>محمود آباد</td>\n",
              "      <td>1.0</td>\n",
              "    </tr>\n",
              "    <tr>\n",
              "      <th>1</th>\n",
              "      <td>11104039</td>\n",
              "      <td>3063877</td>\n",
              "      <td>248497</td>\n",
              "      <td>2018-02-11 00:29:26.000</td>\n",
              "      <td>980000.0</td>\n",
              "      <td>خرمدره</td>\n",
              "      <td>1.0</td>\n",
              "    </tr>\n",
              "    <tr>\n",
              "      <th>2</th>\n",
              "      <td>4228130</td>\n",
              "      <td>3184893</td>\n",
              "      <td>50144</td>\n",
              "      <td>2016-06-14 00:30:08.000</td>\n",
              "      <td>229358.0</td>\n",
              "      <td>قرچک</td>\n",
              "      <td>1.0</td>\n",
              "    </tr>\n",
              "    <tr>\n",
              "      <th>3</th>\n",
              "      <td>22225624</td>\n",
              "      <td>6888562</td>\n",
              "      <td>70208</td>\n",
              "      <td>2018-09-03 14:37:19.000</td>\n",
              "      <td>16514.0</td>\n",
              "      <td>قم</td>\n",
              "      <td>1.0</td>\n",
              "    </tr>\n",
              "    <tr>\n",
              "      <th>4</th>\n",
              "      <td>4068771</td>\n",
              "      <td>2533490</td>\n",
              "      <td>67627</td>\n",
              "      <td>2016-05-21 11:51:02.000</td>\n",
              "      <td>133028.0</td>\n",
              "      <td>تهران</td>\n",
              "      <td>1.0</td>\n",
              "    </tr>\n",
              "  </tbody>\n",
              "</table>\n",
              "</div>"
            ],
            "text/plain": [
              "   ID_Order  ID_Customer  ...  city_name_fa Quantity_item\n",
              "0   2714054       469662  ...    محمود آباد           1.0\n",
              "1  11104039      3063877  ...        خرمدره           1.0\n",
              "2   4228130      3184893  ...          قرچک           1.0\n",
              "3  22225624      6888562  ...            قم           1.0\n",
              "4   4068771      2533490  ...         تهران           1.0\n",
              "\n",
              "[5 rows x 7 columns]"
            ]
          },
          "metadata": {
            "tags": []
          },
          "execution_count": 14
        }
      ]
    },
    {
      "cell_type": "code",
      "metadata": {
        "id": "s8eYS6zXFmVD",
        "colab": {
          "base_uri": "https://localhost:8080/"
        },
        "outputId": "98e18861-b09a-487d-a1bf-b856b86a1076"
      },
      "source": [
        "len(digikala_orders)"
      ],
      "execution_count": null,
      "outputs": [
        {
          "output_type": "execute_result",
          "data": {
            "text/plain": [
              "200000"
            ]
          },
          "metadata": {
            "tags": []
          },
          "execution_count": 55
        }
      ]
    },
    {
      "cell_type": "markdown",
      "metadata": {
        "id": "P6BmlGe7dg9J"
      },
      "source": [
        "**1- divar product and city**"
      ]
    },
    {
      "cell_type": "code",
      "metadata": {
        "id": "CEm8EBlqRPLw"
      },
      "source": [
        "selected1 = divar_data[['cat3', 'city']]"
      ],
      "execution_count": null,
      "outputs": []
    },
    {
      "cell_type": "code",
      "metadata": {
        "colab": {
          "base_uri": "https://localhost:8080/"
        },
        "id": "jBX29oatTjE1",
        "outputId": "0dc2189b-4f4a-441a-cf51-869d4e8f63d7"
      },
      "source": [
        "selected1.shape[0]"
      ],
      "execution_count": null,
      "outputs": [
        {
          "output_type": "execute_result",
          "data": {
            "text/plain": [
              "947635"
            ]
          },
          "metadata": {
            "tags": []
          },
          "execution_count": 16
        }
      ]
    },
    {
      "cell_type": "code",
      "metadata": {
        "id": "hICL8-gvTnpf"
      },
      "source": [
        "selectedNotNull1 = selected1.dropna()"
      ],
      "execution_count": null,
      "outputs": []
    },
    {
      "cell_type": "code",
      "metadata": {
        "colab": {
          "base_uri": "https://localhost:8080/"
        },
        "id": "87etSxOQTyXY",
        "outputId": "1a0ee406-7f85-40a0-d2dc-4b1ad2c152c1"
      },
      "source": [
        "selectedNotNull1.shape[0]"
      ],
      "execution_count": null,
      "outputs": [
        {
          "output_type": "execute_result",
          "data": {
            "text/plain": [
              "775301"
            ]
          },
          "metadata": {
            "tags": []
          },
          "execution_count": 18
        }
      ]
    },
    {
      "cell_type": "code",
      "metadata": {
        "id": "Dq3sabbuUXh4"
      },
      "source": [
        "records1 = []\n",
        "for i in range(0, selectedNotNull1.shape[0]):\n",
        "    records1.append([str(selectedNotNull1.values[i,j]) for j in range(0, 2)])"
      ],
      "execution_count": null,
      "outputs": []
    },
    {
      "cell_type": "code",
      "metadata": {
        "colab": {
          "base_uri": "https://localhost:8080/"
        },
        "id": "MLcxouRtv65R",
        "outputId": "2cf0e344-546d-4b3a-b076-969c644ca40c"
      },
      "source": [
        "print(records1[0])"
      ],
      "execution_count": null,
      "outputs": [
        {
          "output_type": "stream",
          "text": [
            "['sofa-armchair', 'Tehran']\n"
          ],
          "name": "stdout"
        }
      ]
    },
    {
      "cell_type": "code",
      "metadata": {
        "id": "6E-juF8aVTOl"
      },
      "source": [
        "association_rules = apriori(records1, min_support=0.00045, min_confidence=0.2, min_lift=2, min_length=1)\n",
        "association_results = list(association_rules)"
      ],
      "execution_count": null,
      "outputs": []
    },
    {
      "cell_type": "code",
      "metadata": {
        "colab": {
          "base_uri": "https://localhost:8080/"
        },
        "id": "0Q14gylHpiuy",
        "outputId": "794bb4e2-4fb7-4b36-90ae-45637864d0b2"
      },
      "source": [
        "len(association_results)"
      ],
      "execution_count": null,
      "outputs": [
        {
          "output_type": "execute_result",
          "data": {
            "text/plain": [
              "18"
            ]
          },
          "metadata": {
            "tags": []
          },
          "execution_count": 22
        }
      ]
    },
    {
      "cell_type": "code",
      "metadata": {
        "colab": {
          "base_uri": "https://localhost:8080/"
        },
        "id": "2hIYJG5ZD9GC",
        "outputId": "4c3a89f5-7ec1-4759-fb53-fa55b9f6ce5c"
      },
      "source": [
        "print(association_results)"
      ],
      "execution_count": null,
      "outputs": [
        {
          "output_type": "stream",
          "text": [
            "[RelationRecord(items=frozenset({'Mashhad', 'fish'}), support=0.0005662316958187852, ordered_statistics=[OrderedStatistic(items_base=frozenset({'fish'}), items_add=frozenset({'Mashhad'}), confidence=0.3595413595413596, lift=2.4171691055806837)]), RelationRecord(items=frozenset({'Mashhad', 'garden-and-patio'}), support=0.0006075059879969199, ordered_statistics=[OrderedStatistic(items_base=frozenset({'garden-and-patio'}), items_add=frozenset({'Mashhad'}), confidence=0.37983870967741934, lift=2.553626640637631)]), RelationRecord(items=frozenset({'Tehran', 'ball-sports'}), support=0.0010047710502114663, ordered_statistics=[OrderedStatistic(items_base=frozenset({'ball-sports'}), items_add=frozenset({'Tehran'}), confidence=1.0, lift=2.1427809407992924)]), RelationRecord(items=frozenset({'Tehran', 'bathroom-wc-sauna'}), support=0.0014471798694958473, ordered_statistics=[OrderedStatistic(items_base=frozenset({'bathroom-wc-sauna'}), items_add=frozenset({'Tehran'}), confidence=1.0, lift=2.1427809407992924)]), RelationRecord(items=frozenset({'Tehran', 'camping-outdoor'}), support=0.0008499924545434612, ordered_statistics=[OrderedStatistic(items_base=frozenset({'camping-outdoor'}), items_add=frozenset({'Tehran'}), confidence=1.0, lift=2.1427809407992924)]), RelationRecord(items=frozenset({'Tehran', 'cat'}), support=0.0006087958096274867, ordered_statistics=[OrderedStatistic(items_base=frozenset({'cat'}), items_add=frozenset({'Tehran'}), confidence=1.0, lift=2.1427809407992924)]), RelationRecord(items=frozenset({'Tehran', 'child-car-seat'}), support=0.0013981666475343126, ordered_statistics=[OrderedStatistic(items_base=frozenset({'child-car-seat'}), items_add=frozenset({'Tehran'}), confidence=1.0, lift=2.1427809407992924)]), RelationRecord(items=frozenset({'Tehran', 'coin-stamp'}), support=0.0005004507926598831, ordered_statistics=[OrderedStatistic(items_base=frozenset({'coin-stamp'}), items_add=frozenset({'Tehran'}), confidence=1.0, lift=2.1427809407992924)]), RelationRecord(items=frozenset({'Tehran', 'dishwasher'}), support=0.0014742661237377482, ordered_statistics=[OrderedStatistic(items_base=frozenset({'dishwasher'}), items_add=frozenset({'Tehran'}), confidence=1.0, lift=2.1427809407992924)]), RelationRecord(items=frozenset({'Tehran', 'drums-percussion'}), support=0.00045659685722061494, ordered_statistics=[OrderedStatistic(items_base=frozenset({'drums-percussion'}), items_add=frozenset({'Tehran'}), confidence=1.0, lift=2.1427809407992924)]), RelationRecord(items=frozenset({'Tehran', 'guitar-bass-amplifier'}), support=0.0018147790342073595, ordered_statistics=[OrderedStatistic(items_base=frozenset({'guitar-bass-amplifier'}), items_add=frozenset({'Tehran'}), confidence=1.0, lift=2.1427809407992924)]), RelationRecord(items=frozenset({'Tehran', 'mp3-player'}), support=0.0011711580405545717, ordered_statistics=[OrderedStatistic(items_base=frozenset({'mp3-player'}), items_add=frozenset({'Tehran'}), confidence=1.0, lift=2.1427809407992924)]), RelationRecord(items=frozenset({'Tehran', 'piano-keyboard'}), support=0.0013659211067701448, ordered_statistics=[OrderedStatistic(items_base=frozenset({'piano-keyboard'}), items_add=frozenset({'Tehran'}), confidence=1.0, lift=2.1427809407992924)]), RelationRecord(items=frozenset({'Tehran', 'rhinestones'}), support=0.0008616008492185616, ordered_statistics=[OrderedStatistic(items_base=frozenset({'rhinestones'}), items_add=frozenset({'Tehran'}), confidence=1.0, lift=2.1427809407992924)]), RelationRecord(items=frozenset({'Tehran', 'rodents-rabbits'}), support=0.0006939240372448894, ordered_statistics=[OrderedStatistic(items_base=frozenset({'rodents-rabbits'}), items_add=frozenset({'Tehran'}), confidence=1.0, lift=2.1427809407992924)]), RelationRecord(items=frozenset({'Tehran', 'traditional'}), support=0.0006087958096274867, ordered_statistics=[OrderedStatistic(items_base=frozenset({'traditional'}), items_add=frozenset({'Tehran'}), confidence=1.0, lift=2.1427809407992924)]), RelationRecord(items=frozenset({'Tehran', 'video-dvdplayer'}), support=0.0011040873157651028, ordered_statistics=[OrderedStatistic(items_base=frozenset({'video-dvdplayer'}), items_add=frozenset({'Tehran'}), confidence=1.0, lift=2.1427809407992924)]), RelationRecord(items=frozenset({'Tehran', 'winter-sports'}), support=0.001568423102769118, ordered_statistics=[OrderedStatistic(items_base=frozenset({'winter-sports'}), items_add=frozenset({'Tehran'}), confidence=1.0, lift=2.1427809407992924)])]\n"
          ],
          "name": "stdout"
        }
      ]
    },
    {
      "cell_type": "code",
      "metadata": {
        "colab": {
          "base_uri": "https://localhost:8080/"
        },
        "id": "dUpx7pDuVZZT",
        "outputId": "5941cb2a-4951-4415-bc2c-e84134b3495d"
      },
      "source": [
        "for item in association_results:\n",
        "    pair = item[0] \n",
        "    items = [x for x in pair]\n",
        "    print(\"Rule: \" + items[0] + \" -> \" + items[1])\n",
        "    print(\"Support: \" + str(item[1]))\n",
        "    print(\"Confidence: \" + str(item[2][0][2]))\n",
        "    print(\"Lift: \" + str(item[2][0][3]))\n",
        "    print(\"=====================================\")"
      ],
      "execution_count": null,
      "outputs": [
        {
          "output_type": "stream",
          "text": [
            "Rule: Mashhad -> fish\n",
            "Support: 0.0005662316958187852\n",
            "Confidence: 0.3595413595413596\n",
            "Lift: 2.4171691055806837\n",
            "=====================================\n",
            "Rule: Mashhad -> garden-and-patio\n",
            "Support: 0.0006075059879969199\n",
            "Confidence: 0.37983870967741934\n",
            "Lift: 2.553626640637631\n",
            "=====================================\n",
            "Rule: Tehran -> ball-sports\n",
            "Support: 0.0010047710502114663\n",
            "Confidence: 1.0\n",
            "Lift: 2.1427809407992924\n",
            "=====================================\n",
            "Rule: Tehran -> bathroom-wc-sauna\n",
            "Support: 0.0014471798694958473\n",
            "Confidence: 1.0\n",
            "Lift: 2.1427809407992924\n",
            "=====================================\n",
            "Rule: Tehran -> camping-outdoor\n",
            "Support: 0.0008499924545434612\n",
            "Confidence: 1.0\n",
            "Lift: 2.1427809407992924\n",
            "=====================================\n",
            "Rule: Tehran -> cat\n",
            "Support: 0.0006087958096274867\n",
            "Confidence: 1.0\n",
            "Lift: 2.1427809407992924\n",
            "=====================================\n",
            "Rule: Tehran -> child-car-seat\n",
            "Support: 0.0013981666475343126\n",
            "Confidence: 1.0\n",
            "Lift: 2.1427809407992924\n",
            "=====================================\n",
            "Rule: Tehran -> coin-stamp\n",
            "Support: 0.0005004507926598831\n",
            "Confidence: 1.0\n",
            "Lift: 2.1427809407992924\n",
            "=====================================\n",
            "Rule: Tehran -> dishwasher\n",
            "Support: 0.0014742661237377482\n",
            "Confidence: 1.0\n",
            "Lift: 2.1427809407992924\n",
            "=====================================\n",
            "Rule: Tehran -> drums-percussion\n",
            "Support: 0.00045659685722061494\n",
            "Confidence: 1.0\n",
            "Lift: 2.1427809407992924\n",
            "=====================================\n",
            "Rule: Tehran -> guitar-bass-amplifier\n",
            "Support: 0.0018147790342073595\n",
            "Confidence: 1.0\n",
            "Lift: 2.1427809407992924\n",
            "=====================================\n",
            "Rule: Tehran -> mp3-player\n",
            "Support: 0.0011711580405545717\n",
            "Confidence: 1.0\n",
            "Lift: 2.1427809407992924\n",
            "=====================================\n",
            "Rule: Tehran -> piano-keyboard\n",
            "Support: 0.0013659211067701448\n",
            "Confidence: 1.0\n",
            "Lift: 2.1427809407992924\n",
            "=====================================\n",
            "Rule: Tehran -> rhinestones\n",
            "Support: 0.0008616008492185616\n",
            "Confidence: 1.0\n",
            "Lift: 2.1427809407992924\n",
            "=====================================\n",
            "Rule: Tehran -> rodents-rabbits\n",
            "Support: 0.0006939240372448894\n",
            "Confidence: 1.0\n",
            "Lift: 2.1427809407992924\n",
            "=====================================\n",
            "Rule: Tehran -> traditional\n",
            "Support: 0.0006087958096274867\n",
            "Confidence: 1.0\n",
            "Lift: 2.1427809407992924\n",
            "=====================================\n",
            "Rule: Tehran -> video-dvdplayer\n",
            "Support: 0.0011040873157651028\n",
            "Confidence: 1.0\n",
            "Lift: 2.1427809407992924\n",
            "=====================================\n",
            "Rule: Tehran -> winter-sports\n",
            "Support: 0.001568423102769118\n",
            "Confidence: 1.0\n",
            "Lift: 2.1427809407992924\n",
            "=====================================\n"
          ],
          "name": "stdout"
        }
      ]
    },
    {
      "cell_type": "markdown",
      "metadata": {
        "id": "BHl8A3S2d3HE"
      },
      "source": [
        "**2- digikala products**"
      ]
    },
    {
      "cell_type": "code",
      "metadata": {
        "id": "mh1wGZJ5KR4a",
        "colab": {
          "base_uri": "https://localhost:8080/"
        },
        "outputId": "1f56dcbc-a1e2-4300-c108-4ec1090f7e12"
      },
      "source": [
        "digikala_orders.shape[0]"
      ],
      "execution_count": null,
      "outputs": [
        {
          "output_type": "execute_result",
          "data": {
            "text/plain": [
              "200000"
            ]
          },
          "metadata": {
            "tags": []
          },
          "execution_count": 25
        }
      ]
    },
    {
      "cell_type": "code",
      "metadata": {
        "id": "patGDSuKd14N"
      },
      "source": [
        "customer = digikala_orders.groupby('ID_Customer')"
      ],
      "execution_count": null,
      "outputs": []
    },
    {
      "cell_type": "code",
      "metadata": {
        "id": "WSP6uCqQKEMq",
        "colab": {
          "base_uri": "https://localhost:8080/",
          "height": 417
        },
        "outputId": "1596515e-3897-44b3-8b96-4426194a9b78"
      },
      "source": [
        "customer.head()"
      ],
      "execution_count": null,
      "outputs": [
        {
          "output_type": "execute_result",
          "data": {
            "text/html": [
              "<div>\n",
              "<style scoped>\n",
              "    .dataframe tbody tr th:only-of-type {\n",
              "        vertical-align: middle;\n",
              "    }\n",
              "\n",
              "    .dataframe tbody tr th {\n",
              "        vertical-align: top;\n",
              "    }\n",
              "\n",
              "    .dataframe thead th {\n",
              "        text-align: right;\n",
              "    }\n",
              "</style>\n",
              "<table border=\"1\" class=\"dataframe\">\n",
              "  <thead>\n",
              "    <tr style=\"text-align: right;\">\n",
              "      <th></th>\n",
              "      <th>ID_Order</th>\n",
              "      <th>ID_Customer</th>\n",
              "      <th>ID_Item</th>\n",
              "      <th>DateTime_CartFinalize</th>\n",
              "      <th>Amount_Gross_Order</th>\n",
              "      <th>city_name_fa</th>\n",
              "      <th>Quantity_item</th>\n",
              "    </tr>\n",
              "  </thead>\n",
              "  <tbody>\n",
              "    <tr>\n",
              "      <th>0</th>\n",
              "      <td>2714054</td>\n",
              "      <td>469662</td>\n",
              "      <td>21386</td>\n",
              "      <td>2015-10-15 08:50:56.000</td>\n",
              "      <td>597982.0</td>\n",
              "      <td>محمود آباد</td>\n",
              "      <td>1.0</td>\n",
              "    </tr>\n",
              "    <tr>\n",
              "      <th>1</th>\n",
              "      <td>11104039</td>\n",
              "      <td>3063877</td>\n",
              "      <td>248497</td>\n",
              "      <td>2018-02-11 00:29:26.000</td>\n",
              "      <td>980000.0</td>\n",
              "      <td>خرمدره</td>\n",
              "      <td>1.0</td>\n",
              "    </tr>\n",
              "    <tr>\n",
              "      <th>2</th>\n",
              "      <td>4228130</td>\n",
              "      <td>3184893</td>\n",
              "      <td>50144</td>\n",
              "      <td>2016-06-14 00:30:08.000</td>\n",
              "      <td>229358.0</td>\n",
              "      <td>قرچک</td>\n",
              "      <td>1.0</td>\n",
              "    </tr>\n",
              "    <tr>\n",
              "      <th>3</th>\n",
              "      <td>22225624</td>\n",
              "      <td>6888562</td>\n",
              "      <td>70208</td>\n",
              "      <td>2018-09-03 14:37:19.000</td>\n",
              "      <td>16514.0</td>\n",
              "      <td>قم</td>\n",
              "      <td>1.0</td>\n",
              "    </tr>\n",
              "    <tr>\n",
              "      <th>4</th>\n",
              "      <td>4068771</td>\n",
              "      <td>2533490</td>\n",
              "      <td>67627</td>\n",
              "      <td>2016-05-21 11:51:02.000</td>\n",
              "      <td>133028.0</td>\n",
              "      <td>تهران</td>\n",
              "      <td>1.0</td>\n",
              "    </tr>\n",
              "    <tr>\n",
              "      <th>...</th>\n",
              "      <td>...</td>\n",
              "      <td>...</td>\n",
              "      <td>...</td>\n",
              "      <td>...</td>\n",
              "      <td>...</td>\n",
              "      <td>...</td>\n",
              "      <td>...</td>\n",
              "    </tr>\n",
              "    <tr>\n",
              "      <th>199995</th>\n",
              "      <td>12172771</td>\n",
              "      <td>4403268</td>\n",
              "      <td>445940</td>\n",
              "      <td>2018-04-03 12:07:01.000</td>\n",
              "      <td>344037.0</td>\n",
              "      <td>تهران</td>\n",
              "      <td>2.0</td>\n",
              "    </tr>\n",
              "    <tr>\n",
              "      <th>199996</th>\n",
              "      <td>4425393</td>\n",
              "      <td>3745774</td>\n",
              "      <td>131645</td>\n",
              "      <td>2016-07-09 19:14:09.000</td>\n",
              "      <td>600000.0</td>\n",
              "      <td>محمدیه</td>\n",
              "      <td>1.0</td>\n",
              "    </tr>\n",
              "    <tr>\n",
              "      <th>199997</th>\n",
              "      <td>6671889</td>\n",
              "      <td>4845514</td>\n",
              "      <td>215045</td>\n",
              "      <td>2017-03-08 23:47:06.000</td>\n",
              "      <td>450000.0</td>\n",
              "      <td>اصفهان</td>\n",
              "      <td>1.0</td>\n",
              "    </tr>\n",
              "    <tr>\n",
              "      <th>199998</th>\n",
              "      <td>6315995</td>\n",
              "      <td>2541418</td>\n",
              "      <td>264021</td>\n",
              "      <td>2017-02-08 14:59:39.000</td>\n",
              "      <td>193486.0</td>\n",
              "      <td>همدان</td>\n",
              "      <td>1.0</td>\n",
              "    </tr>\n",
              "    <tr>\n",
              "      <th>199999</th>\n",
              "      <td>7584127</td>\n",
              "      <td>1342585</td>\n",
              "      <td>89427</td>\n",
              "      <td>2017-06-17 10:08:06.000</td>\n",
              "      <td>55046.0</td>\n",
              "      <td>بندر انزلی</td>\n",
              "      <td>1.0</td>\n",
              "    </tr>\n",
              "  </tbody>\n",
              "</table>\n",
              "<p>196392 rows × 7 columns</p>\n",
              "</div>"
            ],
            "text/plain": [
              "        ID_Order  ID_Customer  ...  city_name_fa Quantity_item\n",
              "0        2714054       469662  ...    محمود آباد           1.0\n",
              "1       11104039      3063877  ...        خرمدره           1.0\n",
              "2        4228130      3184893  ...          قرچک           1.0\n",
              "3       22225624      6888562  ...            قم           1.0\n",
              "4        4068771      2533490  ...         تهران           1.0\n",
              "...          ...          ...  ...           ...           ...\n",
              "199995  12172771      4403268  ...         تهران           2.0\n",
              "199996   4425393      3745774  ...        محمدیه           1.0\n",
              "199997   6671889      4845514  ...        اصفهان           1.0\n",
              "199998   6315995      2541418  ...         همدان           1.0\n",
              "199999   7584127      1342585  ...    بندر انزلی           1.0\n",
              "\n",
              "[196392 rows x 7 columns]"
            ]
          },
          "metadata": {
            "tags": []
          },
          "execution_count": 27
        }
      ]
    },
    {
      "cell_type": "code",
      "metadata": {
        "id": "Sr40JMclKZPE"
      },
      "source": [
        "product = digikala_product[['category_keywords', 'brand_name_en']]"
      ],
      "execution_count": null,
      "outputs": []
    },
    {
      "cell_type": "code",
      "metadata": {
        "colab": {
          "base_uri": "https://localhost:8080/"
        },
        "id": "dJyerD0YLaWF",
        "outputId": "fcce3222-62c6-4393-9bcd-793afc9210a5"
      },
      "source": [
        "product.shape[0]"
      ],
      "execution_count": null,
      "outputs": [
        {
          "output_type": "execute_result",
          "data": {
            "text/plain": [
              "100000"
            ]
          },
          "metadata": {
            "tags": []
          },
          "execution_count": 29
        }
      ]
    },
    {
      "cell_type": "code",
      "metadata": {
        "id": "myaTurLCMyC4"
      },
      "source": [
        "productNotNull = product.dropna()"
      ],
      "execution_count": null,
      "outputs": []
    },
    {
      "cell_type": "code",
      "metadata": {
        "colab": {
          "base_uri": "https://localhost:8080/"
        },
        "id": "R247j7gaM59S",
        "outputId": "fa7a4bec-8279-4e13-eebf-df2e13e1ac46"
      },
      "source": [
        "productNotNull.shape[0]"
      ],
      "execution_count": null,
      "outputs": [
        {
          "output_type": "execute_result",
          "data": {
            "text/plain": [
              "99740"
            ]
          },
          "metadata": {
            "tags": []
          },
          "execution_count": 31
        }
      ]
    },
    {
      "cell_type": "code",
      "metadata": {
        "id": "lVW9W_QFM-eT"
      },
      "source": [
        "product_records = []\n",
        "for i in range(0, productNotNull.shape[0]):\n",
        "    product_records.append([str(productNotNull.values[i,j]) for j in range(0, 2)])"
      ],
      "execution_count": null,
      "outputs": []
    },
    {
      "cell_type": "code",
      "metadata": {
        "id": "ORiQgWhzNIlR"
      },
      "source": [
        "product_association_rules = apriori(product_records, min_support=0.00045, min_confidence=0.1, min_lift=2, min_length=1)\n",
        "product_association_results = list(product_association_rules)"
      ],
      "execution_count": null,
      "outputs": []
    },
    {
      "cell_type": "code",
      "metadata": {
        "colab": {
          "base_uri": "https://localhost:8080/"
        },
        "id": "-VFryC5iNWOS",
        "outputId": "1e12676c-9cef-446e-8955-78005a6611ba"
      },
      "source": [
        "len(product_association_results)"
      ],
      "execution_count": null,
      "outputs": [
        {
          "output_type": "execute_result",
          "data": {
            "text/plain": [
              "134"
            ]
          },
          "metadata": {
            "tags": []
          },
          "execution_count": 34
        }
      ]
    },
    {
      "cell_type": "code",
      "metadata": {
        "colab": {
          "base_uri": "https://localhost:8080/"
        },
        "id": "CSDerdbyNbAF",
        "outputId": "1fc231d5-476a-40cb-9c9c-d6d804290cc7"
      },
      "source": [
        "for item in product_association_results:\n",
        "    pair = item[0] \n",
        "    items = [x for x in pair]\n",
        "    print(\"Rule: \" + items[0] + \" -> \" + items[1])\n",
        "    print(\"Support: \" + str(item[1]))\n",
        "    print(\"Confidence: \" + str(item[2][0][2]))\n",
        "    print(\"Lift: \" + str(item[2][0][3]))\n",
        "    print(\"=====================================\")"
      ],
      "execution_count": null,
      "outputs": [
        {
          "output_type": "stream",
          "text": [
            "Rule: AZARDO -> کفش بچگانه KidsShoes\n",
            "Support: 0.0004712251854822539\n",
            "Confidence: 0.19831223628691985\n",
            "Lift: 88.30206449668475\n",
            "=====================================\n",
            "Rule: AZARDO -> کفش زنانه Women-Shoes\n",
            "Support: 0.0013434930820132344\n",
            "Confidence: 0.5654008438818565\n",
            "Lift: 71.83831868633932\n",
            "=====================================\n",
            "Rule: Ab style -> کیت رنگ مو Hair-Color-Kit\n",
            "Support: 0.0017645879286143974\n",
            "Confidence: 0.8262910798122065\n",
            "Lift: 227.663735636656\n",
            "=====================================\n",
            "Rule: کفش ورزشی مردانه Men-Sport-Shoes -> Adidas\n",
            "Support: 0.0007720072187687989\n",
            "Confidence: 0.35000000000000003\n",
            "Lift: 44.58365261813538\n",
            "=====================================\n",
            "Rule: کیف و کاور گوشی Cell-Phone-Pouch-Cover -> Akam\n",
            "Support: 0.0013033888109083617\n",
            "Confidence: 1.0\n",
            "Lift: 22.750912408759124\n",
            "=====================================\n",
            "Rule: Ako -> زیر لیوانی Coasters\n",
            "Support: 0.0016342490475235612\n",
            "Confidence: 0.11256906077348065\n",
            "Lift: 31.987572995860287\n",
            "=====================================\n",
            "Rule: Ako -> قمقمه و فلاسک Flask\n",
            "Support: 0.0007118508121114899\n",
            "Confidence: 0.27734375\n",
            "Lift: 19.10377460290055\n",
            "=====================================\n",
            "Rule: ماوس پد  Mouse-Pad -> Ako\n",
            "Support: 0.002265891317425306\n",
            "Confidence: 0.15607734806629836\n",
            "Lift: 45.78574910627235\n",
            "=====================================\n",
            "Rule: Ako -> پازل Puzzle\n",
            "Support: 0.00131341487868458\n",
            "Confidence: 0.34748010610079577\n",
            "Lift: 23.93485205973299\n",
            "=====================================\n",
            "Rule: کوسن Cushion -> Ako\n",
            "Support: 0.0005815119310206537\n",
            "Confidence: 0.14427860696517414\n",
            "Lift: 9.938085814023804\n",
            "=====================================\n",
            "Rule: Ako -> کیف و کاور گوشی Cell-Phone-Pouch-Cover\n",
            "Support: 0.00503308602366152\n",
            "Confidence: 0.34668508287292815\n",
            "Lift: 7.887401953865386\n",
            "=====================================\n",
            "Rule: Ako -> کیف پول Wallets\n",
            "Support: 0.000962502506516944\n",
            "Confidence: 0.15165876777251186\n",
            "Lift: 10.446440260794429\n",
            "=====================================\n",
            "Rule: Asayesh Tandis -> تشک Mattress\n",
            "Support: 0.0004912773210346902\n",
            "Confidence: 1.0\n",
            "Lift: 797.92\n",
            "=====================================\n",
            "Rule: Banibo -> ابزار مهمانی Party-Tools\n",
            "Support: 0.0008722678965309806\n",
            "Confidence: 0.7131147540983607\n",
            "Lift: 83.18838078803566\n",
            "=====================================\n",
            "Rule: Baseus -> کیف و کاور گوشی Cell-Phone-Pouch-Cover\n",
            "Support: 0.000541407659915781\n",
            "Confidence: 0.5346534653465347\n",
            "Lift: 12.163854159138543\n",
            "=====================================\n",
            "Rule: گوشواره نقره Silver-Earring -> Basic\n",
            "Support: 0.0004611991177060357\n",
            "Confidence: 0.5111111111111111\n",
            "Lift: 369.4074074074074\n",
            "=====================================\n",
            "Rule: Bindo Art Group -> تابلو شاسی Chassis\n",
            "Support: 0.0027471425706837777\n",
            "Confidence: 0.8698412698412699\n",
            "Lift: 55.18954723534876\n",
            "=====================================\n",
            "Rule: Body Luxuries -> اسپری Spray\n",
            "Support: 0.0005213555243633447\n",
            "Confidence: 0.8125\n",
            "Lift: 316.5576171875\n",
            "=====================================\n",
            "Rule: Bombay Duck -> ماگ، لیوان و فنجان CupandMug\n",
            "Support: 0.0004712251854822539\n",
            "Confidence: 0.9791666666666667\n",
            "Lift: 53.45488961868273\n",
            "=====================================\n",
            "Rule: Buff -> محافظ صفحه نمایش گوشی Cell-Phone-Screen-Guard\n",
            "Support: 0.0006115901343493082\n",
            "Confidence: 0.516949152542373\n",
            "Lift: 26.27956599111941\n",
            "=====================================\n",
            "Rule: عینک آفتابی Sunglasses -> Butterfly\n",
            "Support: 0.0011529977942650893\n",
            "Confidence: 0.9504132231404959\n",
            "Lift: 75.11427486214981\n",
            "=====================================\n",
            "Rule: تی‌شرت و پولوشرت زنانه womens-tshirts-polos -> CORDO\n",
            "Support: 0.0007519550832163625\n",
            "Confidence: 0.8333333333333333\n",
            "Lift: 71.71412136899626\n",
            "=====================================\n",
            "Rule: تابلو فرش Pictorial-Carpet -> CPersia\n",
            "Support: 0.0005514337276919992\n",
            "Confidence: 0.1896551724137931\n",
            "Lift: 85.2081391736564\n",
            "=====================================\n",
            "Rule: فرش دستبافت Handmade-Carpet -> CPersia\n",
            "Support: 0.0017946661319430519\n",
            "Confidence: 0.6172413793103447\n",
            "Lift: 194.20711410856083\n",
            "=====================================\n",
            "Rule: سرویس خواب SleepSet -> Carina\n",
            "Support: 0.001022658913174253\n",
            "Confidence: 1.0\n",
            "Lift: 121.338199513382\n",
            "=====================================\n",
            "Rule: شلوار بچگانه kids-trousers -> Carters\n",
            "Support: 0.0005514337276919992\n",
            "Confidence: 0.14986376021798362\n",
            "Lift: 104.52735275623557\n",
            "=====================================\n",
            "Rule: لباس کودک و نوزاد Children-and-Baby-Clothes -> Carters\n",
            "Support: 0.002697012231802687\n",
            "Confidence: 0.7329700272479563\n",
            "Lift: 60.66923694415865\n",
            "=====================================\n",
            "Rule: سرویس خواب SleepSet -> CavaliHome\n",
            "Support: 0.0009324243031882895\n",
            "Confidence: 0.62\n",
            "Lift: 75.22968369829684\n",
            "=====================================\n",
            "Rule: ChapLean -> کیف و کاور گوشی Cell-Phone-Pouch-Cover\n",
            "Support: 0.001253258472027271\n",
            "Confidence: 0.984251968503937\n",
            "Lift: 22.392630323581816\n",
            "=====================================\n",
            "Rule: Chaxigo -> ساعت مچی عقربه‌ای  Analogue-Watch\n",
            "Support: 0.0009524764387407259\n",
            "Confidence: 1.0\n",
            "Lift: 51.625258799171846\n",
            "=====================================\n",
            "Rule: تابلو شاسی Chassis -> DecoGraph\n",
            "Support: 0.0005313815921395629\n",
            "Confidence: 0.654320987654321\n",
            "Lift: 41.51525146860176\n",
            "=====================================\n",
            "Rule: دفتر Notebook -> DokaDaftar\n",
            "Support: 0.0004511730499298175\n",
            "Confidence: 0.9782608695652174\n",
            "Lift: 55.78715787903647\n",
            "=====================================\n",
            "Rule: کتاب چاپی Book -> Entesharat Ordibehesht\n",
            "Support: 0.001383597353118107\n",
            "Confidence: 1.0\n",
            "Lift: 52.1652719665272\n",
            "=====================================\n",
            "Rule: محافظ صفحه نمایش گوشی Cell-Phone-Screen-Guard -> Ferrari\n",
            "Support: 0.0004712251854822539\n",
            "Confidence: 0.6811594202898551\n",
            "Lift: 34.62733974501027\n",
            "=====================================\n",
            "Rule: GANT -> ساعت مچی عقربه‌ای  Analogue-Watch\n",
            "Support: 0.0006115901343493082\n",
            "Confidence: 1.0\n",
            "Lift: 51.625258799171846\n",
            "=====================================\n",
            "Rule: Geramy Gallery -> دستبند طلا Gold-Bracelet\n",
            "Support: 0.0007319029476639262\n",
            "Confidence: 1.0\n",
            "Lift: 176.21908127208482\n",
            "=====================================\n",
            "Rule: بذر و تخم گیاهان Plants-Grain-and-Seeds -> Golbarane Sabz\n",
            "Support: 0.0006717465410066172\n",
            "Confidence: 0.8271604938271604\n",
            "Lift: 342.3277496029916\n",
            "=====================================\n",
            "Rule: غذا و مکمل حیوانات Pet-Food-and-Nutritional-Supplement -> Happy Dog\n",
            "Support: 0.000541407659915781\n",
            "Confidence: 1.0\n",
            "Lift: 447.26457399103145\n",
            "=====================================\n",
            "Rule: پاپیون و کراوات TieandBowTie -> Hex Iran\n",
            "Support: 0.002225787046320433\n",
            "Confidence: 0.9823008849557521\n",
            "Lift: 287.31580723016634\n",
            "=====================================\n",
            "Rule: دوربین های تحت شبکه Network-Cam -> HiLook\n",
            "Support: 0.0006617204732303991\n",
            "Confidence: 0.6534653465346535\n",
            "Lift: 324.26185902172307\n",
            "=====================================\n",
            "Rule: سرویس خواب SleepSet -> Home Collection\n",
            "Support: 0.0009123721676358532\n",
            "Confidence: 0.4840425531914893\n",
            "Lift: 58.73285189211575\n",
            "=====================================\n",
            "Rule: دفتر Notebook -> Iman\n",
            "Support: 0.0007018247443352717\n",
            "Confidence: 1.0\n",
            "Lift: 57.02687249857062\n",
            "=====================================\n",
            "Rule: Industrial Resarch and Training Center of Iran -> کمک آموزشی Learning\n",
            "Support: 0.0006516944054541808\n",
            "Confidence: 0.8666666666666667\n",
            "Lift: 993.5785440613028\n",
            "=====================================\n",
            "Rule: تجهیزات بازی بادی Inflatable-Toy-Equipment -> Intex\n",
            "Support: 0.0005213555243633447\n",
            "Confidence: 0.5777777777777777\n",
            "Lift: 944.7140255009106\n",
            "=====================================\n",
            "Rule: Kheilisabz -> کتاب چاپی Book\n",
            "Support: 0.0016442751152997794\n",
            "Confidence: 1.0\n",
            "Lift: 52.1652719665272\n",
            "=====================================\n",
            "Rule: لباس راحتی و خواب بچگانه kids-nightwear -> Khers kochooloo\n",
            "Support: 0.0005313815921395629\n",
            "Confidence: 0.6162790697674418\n",
            "Lift: 355.3044764081194\n",
            "=====================================\n",
            "Rule: LAXMI -> ساعت مچی عقربه‌ای  Analogue-Watch\n",
            "Support: 0.0005514337276919992\n",
            "Confidence: 1.0\n",
            "Lift: 51.625258799171846\n",
            "=====================================\n",
            "Rule: LEE COOPER -> تی‌شرت و پولوشرت مردانه mens-polos-tshirts\n",
            "Support: 0.0008822939643071987\n",
            "Confidence: 0.704\n",
            "Lift: 17.38904408122833\n",
            "=====================================\n",
            "Rule: Laros -> ساعت مچی عقربه‌ای  Analogue-Watch\n",
            "Support: 0.0006917986765590536\n",
            "Confidence: 0.9583333333333334\n",
            "Lift: 49.474206349206355\n",
            "=====================================\n",
            "Rule: ماژیک Marker -> Letraset\n",
            "Support: 0.000782033286545017\n",
            "Confidence: 1.0\n",
            "Lift: 372.1641791044776\n",
            "=====================================\n",
            "Rule: تابلو شاسی Chassis -> Lohehonar\n",
            "Support: 0.0006717465410066172\n",
            "Confidence: 0.2803347280334728\n",
            "Lift: 17.786632171792988\n",
            "=====================================\n",
            "Rule: سفال، سرامیک و چینی Clay-and-Ceramic -> Lohehonar\n",
            "Support: 0.0008121114898736716\n",
            "Confidence: 0.3389121338912134\n",
            "Lift: 111.93078223281331\n",
            "=====================================\n",
            "Rule: ماگ، لیوان و فنجان CupandMug -> Lomana\n",
            "Support: 0.00360938439943854\n",
            "Confidence: 0.9278350515463917\n",
            "Lift: 50.652582398049866\n",
            "=====================================\n",
            "Rule: MAHOOT -> قطعات جانبی موبایل و تبلت Cell-Phone-Kits\n",
            "Support: 0.005023059955885302\n",
            "Confidence: 0.8448566610455313\n",
            "Lift: 132.07837519229042\n",
            "=====================================\n",
            "Rule: MAHOOT -> لوازم جانبی ساعت Watch-Accessorie\n",
            "Support: 0.0009223982354120714\n",
            "Confidence: 0.1551433389544688\n",
            "Lift: 162.88417502440757\n",
            "=====================================\n",
            "Rule: لاک ناخن Nail-Polish -> Milani\n",
            "Support: 0.0005514337276919992\n",
            "Confidence: 1.0\n",
            "Lift: 548.021978021978\n",
            "=====================================\n",
            "Rule: Mim Team -> ماگ، لیوان و فنجان CupandMug\n",
            "Support: 0.0023761780629637055\n",
            "Confidence: 1.0\n",
            "Lift: 54.59222769567597\n",
            "=====================================\n",
            "Rule: گبه Gabbeh -> Narmin Kasa\n",
            "Support: 0.00131341487868458\n",
            "Confidence: 0.6238095238095238\n",
            "Lift: 353.51569264069263\n",
            "=====================================\n",
            "Rule: ماگ، لیوان و فنجان CupandMug -> Negar Irani\n",
            "Support: 0.0004511730499298175\n",
            "Confidence: 0.45454545454545453\n",
            "Lift: 24.814648952579986\n",
            "=====================================\n",
            "Rule: Nike -> کفش ورزشی زنانه Women-Sport-Shoes\n",
            "Support: 0.0009825546420693804\n",
            "Confidence: 0.2620320855614973\n",
            "Lift: 48.398296692414334\n",
            "=====================================\n",
            "Rule: کفش ورزشی مردانه Men-Sport-Shoes -> Nike\n",
            "Support: 0.0017746139963906156\n",
            "Confidence: 0.4732620320855615\n",
            "Lift: 60.28500010244433\n",
            "=====================================\n",
            "Rule: Nillkin -> کیف و کاور گوشی Cell-Phone-Pouch-Cover\n",
            "Support: 0.0009123721676358532\n",
            "Confidence: 0.91\n",
            "Lift: 20.703330291970804\n",
            "=====================================\n",
            "Rule: تی‌شرت و پولوشرت زنانه womens-tshirts-polos -> Novin Naghsh\n",
            "Support: 0.0009223982354120714\n",
            "Confidence: 0.38333333333333336\n",
            "Lift: 32.988495829738284\n",
            "=====================================\n",
            "Rule: تی‌شرت و پولوشرت مردانه mens-polos-tshirts -> Novin Naghsh\n",
            "Support: 0.0014838580308802888\n",
            "Confidence: 0.6166666666666667\n",
            "Lift: 15.231880468878984\n",
            "=====================================\n",
            "Rule: کتاب چاپی Book -> Office of Cultural Research\n",
            "Support: 0.0013936234208943253\n",
            "Confidence: 1.0\n",
            "Lift: 52.1652719665272\n",
            "=====================================\n",
            "Rule: ساعت مچی عقربه‌ای  Analogue-Watch -> Orient\n",
            "Support: 0.0007920593543212352\n",
            "Confidence: 1.0\n",
            "Lift: 51.625258799171846\n",
            "=====================================\n",
            "Rule: Pa-ara -> جوراب بچگانه kids-socks\n",
            "Support: 0.0029677160617605776\n",
            "Confidence: 0.925\n",
            "Lift: 270.5557184750733\n",
            "=====================================\n",
            "Rule: دفتر Notebook -> PadideNaghsh\n",
            "Support: 0.0006416683376779627\n",
            "Confidence: 0.927536231884058\n",
            "Lift: 52.8944904334568\n",
            "=====================================\n",
            "Rule: ماژیک Marker -> Panter\n",
            "Support: 0.0004912773210346902\n",
            "Confidence: 0.4757281553398058\n",
            "Lift: 177.04897840892622\n",
            "=====================================\n",
            "Rule: تابلو Decorative-Board -> Picasso Art Gallery\n",
            "Support: 0.0004912773210346902\n",
            "Confidence: 0.5212765957446808\n",
            "Lift: 55.66608957127886\n",
            "=====================================\n",
            "Rule: تابلو شاسی Chassis -> Picasso Art Gallery\n",
            "Support: 0.0004511730499298175\n",
            "Confidence: 0.4787234042553191\n",
            "Lift: 30.37396459314601\n",
            "=====================================\n",
            "Rule: کتاب چاپی Book -> Publications of nasleroshan\n",
            "Support: 0.0008421896932023261\n",
            "Confidence: 1.0\n",
            "Lift: 52.1652719665272\n",
            "=====================================\n",
            "Rule: Radical -> تی‌شرت و پولوشرت مردانه mens-polos-tshirts\n",
            "Support: 0.0006617204732303991\n",
            "Confidence: 0.6600000000000001\n",
            "Lift: 16.302228826151566\n",
            "=====================================\n",
            "Rule: Reebok -> کفش ورزشی زنانه Women-Sport-Shoes\n",
            "Support: 0.0010326849809504713\n",
            "Confidence: 0.3130699088145897\n",
            "Lift: 57.825171676235506\n",
            "=====================================\n",
            "Rule: Reebok -> کفش ورزشی مردانه Men-Sport-Shoes\n",
            "Support: 0.0007319029476639262\n",
            "Confidence: 0.22188449848024316\n",
            "Lift: 28.26406114740671\n",
            "=====================================\n",
            "Rule: Rence -> سینی Tray\n",
            "Support: 0.0018748746741527973\n",
            "Confidence: 1.0\n",
            "Lift: 319.6794871794872\n",
            "=====================================\n",
            "Rule: ساعت مچی عقربه‌ای  Analogue-Watch -> Romanson\n",
            "Support: 0.0014337276919991978\n",
            "Confidence: 0.9930555555555555\n",
            "Lift: 51.266750057510926\n",
            "=====================================\n",
            "Rule: شیرآلات Faucets -> S.S.V\n",
            "Support: 0.0005013033888109083\n",
            "Confidence: 1.0\n",
            "Lift: 331.36212624584715\n",
            "=====================================\n",
            "Rule: دفتر Notebook -> S.a.m\n",
            "Support: 0.0023561259274112695\n",
            "Confidence: 0.9873949579831933\n",
            "Lift: 56.308046374639055\n",
            "=====================================\n",
            "Rule: پمپ سیالات Water-Pump -> SAER\n",
            "Support: 0.0005313815921395629\n",
            "Confidence: 1.0\n",
            "Lift: 1366.3013698630139\n",
            "=====================================\n",
            "Rule: غذا و مکمل حیوانات Pet-Food-and-Nutritional-Supplement -> Sanal\n",
            "Support: 0.0005113294565871265\n",
            "Confidence: 1.0\n",
            "Lift: 447.26457399103145\n",
            "=====================================\n",
            "Rule: کتاب چاپی Book -> Shahreh Ghalam Pub\n",
            "Support: 0.0007018247443352717\n",
            "Confidence: 1.0\n",
            "Lift: 52.1652719665272\n",
            "=====================================\n",
            "Rule: Skechers -> کفش ورزشی زنانه Women-Sport-Shoes\n",
            "Support: 0.0006516944054541808\n",
            "Confidence: 0.45454545454545453\n",
            "Lift: 83.95622895622895\n",
            "=====================================\n",
            "Rule: کفش ورزشی مردانه Men-Sport-Shoes -> Skechers\n",
            "Support: 0.0005614597954682174\n",
            "Confidence: 0.39160839160839167\n",
            "Lift: 49.88380712518644\n",
            "=====================================\n",
            "Rule: ساعت مچی عقربه‌ای  Analogue-Watch -> Swatch\n",
            "Support: 0.0005013033888109083\n",
            "Confidence: 1.0\n",
            "Lift: 51.625258799171846\n",
            "=====================================\n",
            "Rule: TETACO -> خاک و کود Soils-and-Fertilizers\n",
            "Support: 0.0006516944054541808\n",
            "Confidence: 1.0\n",
            "Lift: 506.2944162436549\n",
            "=====================================\n",
            "Rule: TREC WEAR -> تی‌شرت ورزشی مردانه Men-T-Shirt\n",
            "Support: 0.0004912773210346902\n",
            "Confidence: 0.26344086021505375\n",
            "Lift: 71.79123332745755\n",
            "=====================================\n",
            "Rule: عروسک Doll -> TY\n",
            "Support: 0.0005614597954682174\n",
            "Confidence: 0.9655172413793103\n",
            "Lift: 113.02897846851222\n",
            "=====================================\n",
            "Rule: Timberland -> ساعت مچی عقربه‌ای  Analogue-Watch\n",
            "Support: 0.0005714858632444355\n",
            "Confidence: 1.0\n",
            "Lift: 51.625258799171846\n",
            "=====================================\n",
            "Rule: Top Toys -> عروسک Doll\n",
            "Support: 0.0005614597954682174\n",
            "Confidence: 1.0\n",
            "Lift: 117.06572769953051\n",
            "=====================================\n",
            "Rule: محافظ صفحه نمایش گوشی Cell-Phone-Screen-Guard -> Topix\n",
            "Support: 0.0004511730499298175\n",
            "Confidence: 0.8653846153846154\n",
            "Lift: 43.99258997882851\n",
            "=====================================\n",
            "Rule: دستگاه پخش خودرو Car-Player -> Winca\n",
            "Support: 0.0008622418287547624\n",
            "Confidence: 1.0\n",
            "Lift: 773.1782945736434\n",
            "=====================================\n",
            "Rule: Zaman Noor -> لامپ و چراغ Lamp\n",
            "Support: 0.0004611991177060357\n",
            "Confidence: 1.0\n",
            "Lift: 272.5136612021858\n",
            "=====================================\n",
            "Rule: Zekr -> کتاب چاپی Book\n",
            "Support: 0.0005815119310206537\n",
            "Confidence: 1.0\n",
            "Lift: 52.1652719665272\n",
            "=====================================\n",
            "Rule: استیکر و تابلو کودک و نوزاد Sticker -> Zhivar\n",
            "Support: 0.0007419290154401444\n",
            "Confidence: 0.5068493150684932\n",
            "Lift: 170.7876712328767\n",
            "=====================================\n",
            "Rule: استیکر و پوستر Sticker-And-Poster -> Zhivar\n",
            "Support: 0.0006216162021255264\n",
            "Confidence: 0.4246575342465754\n",
            "Lift: 78.87400831611438\n",
            "=====================================\n",
            "Rule: چراغ خواب و آباژور DecorativeLamp -> aram\n",
            "Support: 0.0011730499298175255\n",
            "Confidence: 0.6393442622950819\n",
            "Lift: 183.77001936977368\n",
            "=====================================\n",
            "Rule: black and white -> تی‌شرت و پولوشرت مردانه mens-polos-tshirts\n",
            "Support: 0.0009825546420693804\n",
            "Confidence: 0.9423076923076923\n",
            "Lift: 23.275326704004268\n",
            "=====================================\n",
            "Rule: کتاب چاپی Book -> dabestanak\n",
            "Support: 0.0007319029476639262\n",
            "Confidence: 1.0\n",
            "Lift: 52.1652719665272\n",
            "=====================================\n",
            "Rule: danish design -> ساعت مچی عقربه‌ای  Analogue-Watch\n",
            "Support: 0.0006115901343493082\n",
            "Confidence: 1.0\n",
            "Lift: 51.625258799171846\n",
            "=====================================\n",
            "Rule: آویز گردنبند نقره (پلاک) Silver-Necklace-Pendant-Plaque -> eghlimeh\n",
            "Support: 0.000481251253258472\n",
            "Confidence: 0.26666666666666666\n",
            "Lift: 154.63565891472868\n",
            "=====================================\n",
            "Rule: گردنبند Necklace -> eghlimeh\n",
            "Support: 0.0004511730499298175\n",
            "Confidence: 0.25\n",
            "Lift: 24.935\n",
            "=====================================\n",
            "Rule: گردنبند نقره Silver-Necklace -> elements\n",
            "Support: 0.000481251253258472\n",
            "Confidence: 0.45714285714285713\n",
            "Lift: 144.74739229024945\n",
            "=====================================\n",
            "Rule: eli shop -> تی‌شرت و پولوشرت زنانه womens-tshirts-polos\n",
            "Support: 0.0006817726087828353\n",
            "Confidence: 0.4047619047619047\n",
            "Lift: 34.832573236369605\n",
            "=====================================\n",
            "Rule: eli shop -> تی‌شرت و پولوشرت مردانه mens-polos-tshirts\n",
            "Support: 0.0010026067776218166\n",
            "Confidence: 0.5952380952380951\n",
            "Lift: 14.702587325172761\n",
            "=====================================\n",
            "Rule: franklin  marshall -> تی‌شرت و پولوشرت زنانه womens-tshirts-polos\n",
            "Support: 0.000541407659915781\n",
            "Confidence: 0.10093457943925234\n",
            "Lift: 8.686121616282165\n",
            "=====================================\n",
            "Rule: franklin  marshall -> تی‌شرت و پولوشرت مردانه mens-polos-tshirts\n",
            "Support: 0.002095448165229597\n",
            "Confidence: 0.3906542056074767\n",
            "Lift: 9.64929432077507\n",
            "=====================================\n",
            "Rule: سویشرت و هودی مردانه mens-hoodies-sweatshirts -> franklin  marshall\n",
            "Support: 0.00060156406657309\n",
            "Confidence: 0.11214953271028037\n",
            "Lift: 159.7970627503338\n",
            "=====================================\n",
            "Rule: زیر لیوانی Coasters -> homelux\n",
            "Support: 0.000481251253258472\n",
            "Confidence: 0.4848484848484848\n",
            "Lift: 137.7743244409911\n",
            "=====================================\n",
            "Rule: homez -> گل و گلدان Flower-Pot\n",
            "Support: 0.0008421896932023261\n",
            "Confidence: 0.6666666666666666\n",
            "Lift: 185.21819870009284\n",
            "=====================================\n",
            "Rule: گردنبند Necklace -> ijavaher\n",
            "Support: 0.0010527371165029076\n",
            "Confidence: 0.6402439024390244\n",
            "Lift: 63.857926829268294\n",
            "=====================================\n",
            "Rule: کتاب چاپی Book -> kagoo\n",
            "Support: 0.0017746139963906156\n",
            "Confidence: 1.0\n",
            "Lift: 52.1652719665272\n",
            "=====================================\n",
            "Rule: kh -> کیف و کاور گوشی Cell-Phone-Pouch-Cover\n",
            "Support: 0.005383998395829156\n",
            "Confidence: 1.0\n",
            "Lift: 22.750912408759124\n",
            "=====================================\n",
            "Rule: عروسک Doll -> kidsland\n",
            "Support: 0.0007118508121114899\n",
            "Confidence: 0.7802197802197803\n",
            "Lift: 91.33699633699635\n",
            "=====================================\n",
            "Rule: luxino -> زیر لیوانی Coasters\n",
            "Support: 0.0006817726087828353\n",
            "Confidence: 0.8831168831168831\n",
            "Lift: 250.94609094609092\n",
            "=====================================\n",
            "Rule: manto valiasr -> مانتو womens-manteaus\n",
            "Support: 0.0005714858632444355\n",
            "Confidence: 0.7808219178082192\n",
            "Lift: 192.29426686960934\n",
            "=====================================\n",
            "Rule: maral -> کیت رنگ مو Hair-Color-Kit\n",
            "Support: 0.0005213555243633447\n",
            "Confidence: 0.7878787878787878\n",
            "Lift: 217.080194207266\n",
            "=====================================\n",
            "Rule: ساعت مچی عقربه‌ای  Analogue-Watch -> mini focus\n",
            "Support: 0.0005113294565871265\n",
            "Confidence: 1.0\n",
            "Lift: 51.625258799171846\n",
            "=====================================\n",
            "Rule: پرده Curtain -> minoto home\n",
            "Support: 0.0012933627431321437\n",
            "Confidence: 0.8543046357615894\n",
            "Lift: 50.59877931761338\n",
            "=====================================\n",
            "Rule: nikoe -> تی‌شرت و پولوشرت زنانه womens-tshirts-polos\n",
            "Support: 0.0007419290154401444\n",
            "Confidence: 0.29365079365079366\n",
            "Lift: 25.270690387170113\n",
            "=====================================\n",
            "Rule: nikoe -> تی‌شرت و پولوشرت مردانه mens-polos-tshirts\n",
            "Support: 0.0017846400641668338\n",
            "Confidence: 0.7063492063492063\n",
            "Lift: 17.447070292538346\n",
            "=====================================\n",
            "Rule: جوراب زنانه Women-Socks1 -> nurdie\n",
            "Support: 0.000481251253258472\n",
            "Confidence: 0.7384615384615385\n",
            "Lift: 289.976983646275\n",
            "=====================================\n",
            "Rule: کیف و کوله مدرسه Bags -> parsian modern kif\n",
            "Support: 0.0004611991177060357\n",
            "Confidence: 0.9387755102040817\n",
            "Lift: 89.85937561204905\n",
            "=====================================\n",
            "Rule: patilook -> تی‌شرت و پولوشرت مردانه mens-polos-tshirts\n",
            "Support: 0.001253258472027271\n",
            "Confidence: 0.6510416666666667\n",
            "Lift: 16.080954886907712\n",
            "=====================================\n",
            "Rule: کتاب چاپی Book -> pendareghalam publications\n",
            "Support: 0.0009725285742931622\n",
            "Confidence: 1.0\n",
            "Lift: 52.1652719665272\n",
            "=====================================\n",
            "Rule: استیکر و تابلو کودک و نوزاد Sticker -> salso\n",
            "Support: 0.0009524764387407259\n",
            "Confidence: 0.3114754098360656\n",
            "Lift: 104.95458573327426\n",
            "=====================================\n",
            "Rule: استیکر و پوستر Sticker-And-Poster -> salso\n",
            "Support: 0.0014136755564467616\n",
            "Confidence: 0.46229508196721314\n",
            "Lift: 85.86463961901273\n",
            "=====================================\n",
            "Rule: کاغذ دیواری Wallpaper -> salso\n",
            "Support: 0.0006917986765590536\n",
            "Confidence: 0.2262295081967213\n",
            "Lift: 53.46950508895968\n",
            "=====================================\n",
            "Rule: sea to summit -> تجهیزات جانبی کوه‌نوردی و سفر Travel-Accessories\n",
            "Support: 0.0004912773210346902\n",
            "Confidence: 0.5157894736842105\n",
            "Lift: 194.8668261562998\n",
            "=====================================\n",
            "Rule: تی‌شرت و پولوشرت زنانه womens-tshirts-polos -> shindesign\n",
            "Support: 0.0009223982354120714\n",
            "Confidence: 0.4919786096256685\n",
            "Lift: 42.338176465974264\n",
            "=====================================\n",
            "Rule: تی‌شرت و پولوشرت مردانه mens-polos-tshirts -> shindesign\n",
            "Support: 0.0009524764387407259\n",
            "Confidence: 0.5080213903743316\n",
            "Lift: 12.548304476457611\n",
            "=====================================\n",
            "Rule: storm -> جامدادی PencilCase\n",
            "Support: 0.001193102065369962\n",
            "Confidence: 0.5833333333333334\n",
            "Lift: 85.56127450980392\n",
            "=====================================\n",
            "Rule: تی‌شرت و پولوشرت زنانه womens-tshirts-polos -> tarpon\n",
            "Support: 0.0006216162021255264\n",
            "Confidence: 0.29383886255924174\n",
            "Lift: 25.286875023001528\n",
            "=====================================\n",
            "Rule: تی‌شرت و پولوشرت مردانه mens-polos-tshirts -> tarpon\n",
            "Support: 0.001493884098656507\n",
            "Confidence: 0.7061611374407584\n",
            "Lift: 17.442424925295008\n",
            "=====================================\n"
          ],
          "name": "stdout"
        }
      ]
    },
    {
      "cell_type": "markdown",
      "metadata": {
        "id": "vppH5AN5bWLx"
      },
      "source": [
        "**4- divar date and platform**"
      ]
    },
    {
      "cell_type": "code",
      "metadata": {
        "id": "beJpCOttbiBH"
      },
      "source": [
        "selected2 = divar_data[['platform', 'created_at']]"
      ],
      "execution_count": null,
      "outputs": []
    },
    {
      "cell_type": "code",
      "metadata": {
        "colab": {
          "base_uri": "https://localhost:8080/",
          "height": 203
        },
        "id": "qy4xzHjXCkNl",
        "outputId": "f783e91b-94fd-4ed0-96bf-7425fa799063"
      },
      "source": [
        "selected2.head()"
      ],
      "execution_count": null,
      "outputs": [
        {
          "output_type": "execute_result",
          "data": {
            "text/html": [
              "<div>\n",
              "<style scoped>\n",
              "    .dataframe tbody tr th:only-of-type {\n",
              "        vertical-align: middle;\n",
              "    }\n",
              "\n",
              "    .dataframe tbody tr th {\n",
              "        vertical-align: top;\n",
              "    }\n",
              "\n",
              "    .dataframe thead th {\n",
              "        text-align: right;\n",
              "    }\n",
              "</style>\n",
              "<table border=\"1\" class=\"dataframe\">\n",
              "  <thead>\n",
              "    <tr style=\"text-align: right;\">\n",
              "      <th></th>\n",
              "      <th>platform</th>\n",
              "      <th>created_at</th>\n",
              "    </tr>\n",
              "  </thead>\n",
              "  <tbody>\n",
              "    <tr>\n",
              "      <th>0</th>\n",
              "      <td>mobile</td>\n",
              "      <td>Tuesday 07PM</td>\n",
              "    </tr>\n",
              "    <tr>\n",
              "      <th>1</th>\n",
              "      <td>mobile</td>\n",
              "      <td>Tuesday 07PM</td>\n",
              "    </tr>\n",
              "    <tr>\n",
              "      <th>2</th>\n",
              "      <td>mobile</td>\n",
              "      <td>Tuesday 07PM</td>\n",
              "    </tr>\n",
              "    <tr>\n",
              "      <th>3</th>\n",
              "      <td>mobile</td>\n",
              "      <td>Tuesday 07PM</td>\n",
              "    </tr>\n",
              "    <tr>\n",
              "      <th>4</th>\n",
              "      <td>mobile</td>\n",
              "      <td>Tuesday 08PM</td>\n",
              "    </tr>\n",
              "  </tbody>\n",
              "</table>\n",
              "</div>"
            ],
            "text/plain": [
              "  platform    created_at\n",
              "0   mobile  Tuesday 07PM\n",
              "1   mobile  Tuesday 07PM\n",
              "2   mobile  Tuesday 07PM\n",
              "3   mobile  Tuesday 07PM\n",
              "4   mobile  Tuesday 08PM"
            ]
          },
          "metadata": {
            "tags": []
          },
          "execution_count": 37
        }
      ]
    },
    {
      "cell_type": "code",
      "metadata": {
        "colab": {
          "base_uri": "https://localhost:8080/"
        },
        "id": "SdiS7DGveTP9",
        "outputId": "22cce1d1-51f6-47a0-808d-a05ad82c9404"
      },
      "source": [
        "selected2.shape[0]"
      ],
      "execution_count": null,
      "outputs": [
        {
          "output_type": "execute_result",
          "data": {
            "text/plain": [
              "947635"
            ]
          },
          "metadata": {
            "tags": []
          },
          "execution_count": 38
        }
      ]
    },
    {
      "cell_type": "code",
      "metadata": {
        "id": "ElSBtUlyB1ke"
      },
      "source": [
        "selectedNotNull2 = selected2.dropna()"
      ],
      "execution_count": null,
      "outputs": []
    },
    {
      "cell_type": "code",
      "metadata": {
        "colab": {
          "base_uri": "https://localhost:8080/"
        },
        "id": "3AqAEUzIB6Ir",
        "outputId": "58b3c526-22f2-40cc-965e-84994bd2e130"
      },
      "source": [
        "selectedNotNull2.shape[0]"
      ],
      "execution_count": null,
      "outputs": [
        {
          "output_type": "execute_result",
          "data": {
            "text/plain": [
              "947635"
            ]
          },
          "metadata": {
            "tags": []
          },
          "execution_count": 40
        }
      ]
    },
    {
      "cell_type": "code",
      "metadata": {
        "id": "Bnn11bN3B-Ka"
      },
      "source": [
        "records2 = []\n",
        "for i in range(0, selectedNotNull2.shape[0]):\n",
        "    records2.append([str(selectedNotNull2.values[i,j]) for j in range(0, 2)])"
      ],
      "execution_count": null,
      "outputs": []
    },
    {
      "cell_type": "code",
      "metadata": {
        "id": "EyqXDLOOCFbf"
      },
      "source": [
        "association_rules2 = apriori(records2, min_support=0.000001, min_confidence=0.1, min_lift=1.25, min_length=2)\n",
        "association_results2 = list(association_rules2)"
      ],
      "execution_count": null,
      "outputs": []
    },
    {
      "cell_type": "code",
      "metadata": {
        "colab": {
          "base_uri": "https://localhost:8080/"
        },
        "id": "eQAQKBI_C3-i",
        "outputId": "ae5ec8ff-4eab-4b76-8adf-93c9c1c729e7"
      },
      "source": [
        "len(association_results2)"
      ],
      "execution_count": null,
      "outputs": [
        {
          "output_type": "execute_result",
          "data": {
            "text/plain": [
              "19"
            ]
          },
          "metadata": {
            "tags": []
          },
          "execution_count": 43
        }
      ]
    },
    {
      "cell_type": "code",
      "metadata": {
        "colab": {
          "base_uri": "https://localhost:8080/"
        },
        "id": "K8KaDZRsDvgM",
        "outputId": "e2c5a2e2-97a5-4ec9-db92-0c813c93e555"
      },
      "source": [
        "print(association_results2)"
      ],
      "execution_count": null,
      "outputs": [
        {
          "output_type": "stream",
          "text": [
            "[RelationRecord(items=frozenset({'Monday 05AM', 'web'}), support=0.0003260749128092567, ordered_statistics=[OrderedStatistic(items_base=frozenset({'Monday 05AM'}), items_add=frozenset({'web'}), confidence=0.10823117338003502, lift=1.3973629797268248)]), RelationRecord(items=frozenset({'Monday 06AM', 'web'}), support=0.0005339608604578767, ordered_statistics=[OrderedStatistic(items_base=frozenset({'Monday 06AM'}), items_add=frozenset({'web'}), confidence=0.11455739189495132, lift=1.4790402200110657)]), RelationRecord(items=frozenset({'Monday 07AM', 'web'}), support=0.0006553156014710305, ordered_statistics=[OrderedStatistic(items_base=frozenset({'Monday 07AM'}), items_add=frozenset({'web'}), confidence=0.11008686403120015, lift=1.4213216354152205)]), RelationRecord(items=frozenset({'Monday 08AM', 'web'}), support=0.0007133548254338432, ordered_statistics=[OrderedStatistic(items_base=frozenset({'Monday 08AM'}), items_add=frozenset({'web'}), confidence=0.10451453308596165, lift=1.349377769978954)]), RelationRecord(items=frozenset({'Saturday 05AM', 'web'}), support=0.00043687706764735366, ordered_statistics=[OrderedStatistic(items_base=frozenset({'Saturday 05AM'}), items_add=frozenset({'web'}), confidence=0.12526475037821483, lift=1.6172819657846211)]), RelationRecord(items=frozenset({'Saturday 06AM', 'web'}), support=0.0006057184464482633, ordered_statistics=[OrderedStatistic(items_base=frozenset({'Saturday 06AM'}), items_add=frozenset({'web'}), confidence=0.11825298722702925, lift=1.5267537201406831)]), RelationRecord(items=frozenset({'Saturday 07AM', 'web'}), support=0.0007122995668163375, ordered_statistics=[OrderedStatistic(items_base=frozenset({'Saturday 07AM'}), items_add=frozenset({'web'}), confidence=0.10857326684896251, lift=1.401779717845399)]), RelationRecord(items=frozenset({'web', 'Saturday 08AM'}), support=0.0007766703424841843, ordered_statistics=[OrderedStatistic(items_base=frozenset({'Saturday 08AM'}), items_add=frozenset({'web'}), confidence=0.1041312959818902, lift=1.344429830074369)]), RelationRecord(items=frozenset({'web', 'Saturday 09AM'}), support=0.0009307381006400143, ordered_statistics=[OrderedStatistic(items_base=frozenset({'Saturday 09AM'}), items_add=frozenset({'web'}), confidence=0.10863406823500431, lift=1.4025647190915054)]), RelationRecord(items=frozenset({'Saturday 10AM', 'web'}), support=0.0008895830145572927, ordered_statistics=[OrderedStatistic(items_base=frozenset({'Saturday 10AM'}), items_add=frozenset({'web'}), confidence=0.10024973242953979, lift=1.2943153109194656)]), RelationRecord(items=frozenset({'web', 'Sunday 05AM'}), support=0.00040944034359220586, ordered_statistics=[OrderedStatistic(items_base=frozenset({'Sunday 05AM'}), items_add=frozenset({'web'}), confidence=0.12435897435897436, lift=1.6055875727767335)]), RelationRecord(items=frozenset({'web', 'Sunday 06AM'}), support=0.0005476792224854507, ordered_statistics=[OrderedStatistic(items_base=frozenset({'Sunday 06AM'}), items_add=frozenset({'web'}), confidence=0.11285061969993478, lift=1.457004237163788)]), RelationRecord(items=frozenset({'Sunday 07AM', 'web'}), support=0.0006373762049734339, ordered_statistics=[OrderedStatistic(items_base=frozenset({'Sunday 07AM'}), items_add=frozenset({'web'}), confidence=0.10230352303523035, lift=1.320831617366829)]), RelationRecord(items=frozenset({'web', 'Sunday 08AM'}), support=0.0007175758599038659, ordered_statistics=[OrderedStatistic(items_base=frozenset({'Sunday 08AM'}), items_add=frozenset({'web'}), confidence=0.10141685309470544, lift=1.3093839012289326)]), RelationRecord(items=frozenset({'Tuesday 05AM', 'web'}), support=0.0003514011196293932, ordered_statistics=[OrderedStatistic(items_base=frozenset({'Tuesday 05AM'}), items_add=frozenset({'web'}), confidence=0.10591603053435114, lift=1.3674723779315492)]), RelationRecord(items=frozenset({'Tuesday 06AM', 'web'}), support=0.0005286845673703483, ordered_statistics=[OrderedStatistic(items_base=frozenset({'Tuesday 06AM'}), items_add=frozenset({'web'}), confidence=0.10934089917066782, lift=1.4116905499549826)]), RelationRecord(items=frozenset({'Wednesday 05AM', 'web'}), support=0.0003345169817493022, ordered_statistics=[OrderedStatistic(items_base=frozenset({'Wednesday 05AM'}), items_add=frozenset({'web'}), confidence=0.10034821145932257, lift=1.295586764847205)]), RelationRecord(items=frozenset({'Wednesday 06AM', 'web'}), support=0.0005476792224854507, ordered_statistics=[OrderedStatistic(items_base=frozenset({'Wednesday 06AM'}), items_add=frozenset({'web'}), confidence=0.11228905235828646, lift=1.4497538915439765)]), RelationRecord(items=frozenset({'Wednesday 08AM', 'web'}), support=0.0007418468081064966, ordered_statistics=[OrderedStatistic(items_base=frozenset({'Wednesday 08AM'}), items_add=frozenset({'web'}), confidence=0.10350412249705535, lift=1.3363324494195625)])]\n"
          ],
          "name": "stdout"
        }
      ]
    },
    {
      "cell_type": "code",
      "metadata": {
        "colab": {
          "base_uri": "https://localhost:8080/"
        },
        "id": "9N_ebvJMDadS",
        "outputId": "d2a2ae8a-ebf0-4781-ab61-c56fdde960cb"
      },
      "source": [
        "for item in association_results2:\n",
        "    pair = item[0] \n",
        "    items = [x for x in pair]\n",
        "    print(\"Rule: \" + items[0] + \" -> \" + items[1])\n",
        "    print(\"Support: \" + str(item[1]))\n",
        "    print(\"Confidence: \" + str(item[2][0][2]))\n",
        "    print(\"Lift: \" + str(item[2][0][3]))\n",
        "    print(\"=====================================\")"
      ],
      "execution_count": null,
      "outputs": [
        {
          "output_type": "stream",
          "text": [
            "Rule: Monday 05AM -> web\n",
            "Support: 0.0003260749128092567\n",
            "Confidence: 0.10823117338003502\n",
            "Lift: 1.3973629797268248\n",
            "=====================================\n",
            "Rule: Monday 06AM -> web\n",
            "Support: 0.0005339608604578767\n",
            "Confidence: 0.11455739189495132\n",
            "Lift: 1.4790402200110657\n",
            "=====================================\n",
            "Rule: Monday 07AM -> web\n",
            "Support: 0.0006553156014710305\n",
            "Confidence: 0.11008686403120015\n",
            "Lift: 1.4213216354152205\n",
            "=====================================\n",
            "Rule: Monday 08AM -> web\n",
            "Support: 0.0007133548254338432\n",
            "Confidence: 0.10451453308596165\n",
            "Lift: 1.349377769978954\n",
            "=====================================\n",
            "Rule: Saturday 05AM -> web\n",
            "Support: 0.00043687706764735366\n",
            "Confidence: 0.12526475037821483\n",
            "Lift: 1.6172819657846211\n",
            "=====================================\n",
            "Rule: Saturday 06AM -> web\n",
            "Support: 0.0006057184464482633\n",
            "Confidence: 0.11825298722702925\n",
            "Lift: 1.5267537201406831\n",
            "=====================================\n",
            "Rule: Saturday 07AM -> web\n",
            "Support: 0.0007122995668163375\n",
            "Confidence: 0.10857326684896251\n",
            "Lift: 1.401779717845399\n",
            "=====================================\n",
            "Rule: web -> Saturday 08AM\n",
            "Support: 0.0007766703424841843\n",
            "Confidence: 0.1041312959818902\n",
            "Lift: 1.344429830074369\n",
            "=====================================\n",
            "Rule: web -> Saturday 09AM\n",
            "Support: 0.0009307381006400143\n",
            "Confidence: 0.10863406823500431\n",
            "Lift: 1.4025647190915054\n",
            "=====================================\n",
            "Rule: Saturday 10AM -> web\n",
            "Support: 0.0008895830145572927\n",
            "Confidence: 0.10024973242953979\n",
            "Lift: 1.2943153109194656\n",
            "=====================================\n",
            "Rule: web -> Sunday 05AM\n",
            "Support: 0.00040944034359220586\n",
            "Confidence: 0.12435897435897436\n",
            "Lift: 1.6055875727767335\n",
            "=====================================\n",
            "Rule: web -> Sunday 06AM\n",
            "Support: 0.0005476792224854507\n",
            "Confidence: 0.11285061969993478\n",
            "Lift: 1.457004237163788\n",
            "=====================================\n",
            "Rule: Sunday 07AM -> web\n",
            "Support: 0.0006373762049734339\n",
            "Confidence: 0.10230352303523035\n",
            "Lift: 1.320831617366829\n",
            "=====================================\n",
            "Rule: web -> Sunday 08AM\n",
            "Support: 0.0007175758599038659\n",
            "Confidence: 0.10141685309470544\n",
            "Lift: 1.3093839012289326\n",
            "=====================================\n",
            "Rule: Tuesday 05AM -> web\n",
            "Support: 0.0003514011196293932\n",
            "Confidence: 0.10591603053435114\n",
            "Lift: 1.3674723779315492\n",
            "=====================================\n",
            "Rule: Tuesday 06AM -> web\n",
            "Support: 0.0005286845673703483\n",
            "Confidence: 0.10934089917066782\n",
            "Lift: 1.4116905499549826\n",
            "=====================================\n",
            "Rule: Wednesday 05AM -> web\n",
            "Support: 0.0003345169817493022\n",
            "Confidence: 0.10034821145932257\n",
            "Lift: 1.295586764847205\n",
            "=====================================\n",
            "Rule: Wednesday 06AM -> web\n",
            "Support: 0.0005476792224854507\n",
            "Confidence: 0.11228905235828646\n",
            "Lift: 1.4497538915439765\n",
            "=====================================\n",
            "Rule: Wednesday 08AM -> web\n",
            "Support: 0.0007418468081064966\n",
            "Confidence: 0.10350412249705535\n",
            "Lift: 1.3363324494195625\n",
            "=====================================\n"
          ],
          "name": "stdout"
        }
      ]
    },
    {
      "cell_type": "markdown",
      "metadata": {
        "id": "grVuaH5xXnGH"
      },
      "source": [
        "**5- divar product and platform**"
      ]
    },
    {
      "cell_type": "code",
      "metadata": {
        "id": "tRmm1TXJbHSK"
      },
      "source": [
        "selected3 = divar_data[['cat3', 'platform']]"
      ],
      "execution_count": null,
      "outputs": []
    },
    {
      "cell_type": "code",
      "metadata": {
        "colab": {
          "base_uri": "https://localhost:8080/"
        },
        "id": "EA13m6VzEoOP",
        "outputId": "8197543d-644c-4885-982a-4d1a83bef705"
      },
      "source": [
        "selected3.shape[0]"
      ],
      "execution_count": null,
      "outputs": [
        {
          "output_type": "execute_result",
          "data": {
            "text/plain": [
              "947635"
            ]
          },
          "metadata": {
            "tags": []
          },
          "execution_count": 47
        }
      ]
    },
    {
      "cell_type": "code",
      "metadata": {
        "id": "glTu3tgTEthb"
      },
      "source": [
        "selectedNotNull3 = selected3.dropna()"
      ],
      "execution_count": null,
      "outputs": []
    },
    {
      "cell_type": "code",
      "metadata": {
        "colab": {
          "base_uri": "https://localhost:8080/"
        },
        "id": "yfUQrc9QE2Ez",
        "outputId": "ab708ab2-a6c1-468e-b9e7-23fbb5627422"
      },
      "source": [
        "selectedNotNull3.shape[0]"
      ],
      "execution_count": null,
      "outputs": [
        {
          "output_type": "execute_result",
          "data": {
            "text/plain": [
              "775301"
            ]
          },
          "metadata": {
            "tags": []
          },
          "execution_count": 49
        }
      ]
    },
    {
      "cell_type": "code",
      "metadata": {
        "id": "jOd17gD3E7AO"
      },
      "source": [
        "records3 = []\n",
        "for i in range(0, selectedNotNull3.shape[0]):\n",
        "    records3.append([str(selectedNotNull3.values[i,j]) for j in range(0, 2)])"
      ],
      "execution_count": null,
      "outputs": []
    },
    {
      "cell_type": "code",
      "metadata": {
        "id": "e52MnuaKFRwj"
      },
      "source": [
        "association_rules3 = apriori(records3, min_support=0.000045, min_confidence=0.1, min_lift=2, min_length=1)\n",
        "association_results3 = list(association_rules3)"
      ],
      "execution_count": null,
      "outputs": []
    },
    {
      "cell_type": "code",
      "metadata": {
        "colab": {
          "base_uri": "https://localhost:8080/"
        },
        "id": "q40Gg5IVFXnF",
        "outputId": "0981b7dc-2957-45f6-98b9-4f8ced7d23b7"
      },
      "source": [
        "len(association_results3)\n"
      ],
      "execution_count": null,
      "outputs": [
        {
          "output_type": "execute_result",
          "data": {
            "text/plain": [
              "10"
            ]
          },
          "metadata": {
            "tags": []
          },
          "execution_count": 52
        }
      ]
    },
    {
      "cell_type": "code",
      "metadata": {
        "colab": {
          "base_uri": "https://localhost:8080/"
        },
        "id": "C78NabFGPsXI",
        "outputId": "7640a4c1-0386-4596-bfb8-46c3012dde84"
      },
      "source": [
        "print(association_results3)"
      ],
      "execution_count": null,
      "outputs": [
        {
          "output_type": "stream",
          "text": [
            "[RelationRecord(items=frozenset({'bathroom-wc-sauna', 'web'}), support=0.00046820525189571535, ordered_statistics=[OrderedStatistic(items_base=frozenset({'bathroom-wc-sauna'}), items_add=frozenset({'web'}), confidence=0.3235294117647059, lift=4.0762602822879375)]), RelationRecord(items=frozenset({'web', 'cat'}), support=0.00010576537370647014, ordered_statistics=[OrderedStatistic(items_base=frozenset({'cat'}), items_add=frozenset({'web'}), confidence=0.17372881355932202, lift=2.188870120766327)]), RelationRecord(items=frozenset({'kitchen', 'web'}), support=0.000957047649880498, ordered_statistics=[OrderedStatistic(items_base=frozenset({'kitchen'}), items_add=frozenset({'web'}), confidence=0.1790108564535585, lift=2.2554204277126892)]), RelationRecord(items=frozenset({'web', 'laptops'}), support=0.0010770010615232019, ordered_statistics=[OrderedStatistic(items_base=frozenset({'laptops'}), items_add=frozenset({'web'}), confidence=0.21279306829765543, lift=2.6810543372753806)]), RelationRecord(items=frozenset({'web', 'offices'}), support=0.0016819274062589884, ordered_statistics=[OrderedStatistic(items_base=frozenset({'offices'}), items_add=frozenset({'web'}), confidence=0.2533022533022533, lift=3.1914437358818604)]), RelationRecord(items=frozenset({'parts-and-accessories', 'web'}), support=0.002503543784929982, ordered_statistics=[OrderedStatistic(items_base=frozenset({'parts-and-accessories'}), items_add=frozenset({'web'}), confidence=0.19068670792808723, lift=2.402528566561371)]), RelationRecord(items=frozenset({'piano-keyboard', 'web'}), support=0.00024377628817710798, ordered_statistics=[OrderedStatistic(items_base=frozenset({'piano-keyboard'}), items_add=frozenset({'web'}), confidence=0.17847025495750707, lift=2.248609200273181)]), RelationRecord(items=frozenset({'printer-scaner-copier', 'web'}), support=0.0008370942382377941, ordered_statistics=[OrderedStatistic(items_base=frozenset({'printer-scaner-copier'}), items_add=frozenset({'web'}), confidence=0.1949534394713127, lift=2.456286610474497)]), RelationRecord(items=frozenset({'repair-tool', 'web'}), support=7.738929783400254e-05, ordered_statistics=[OrderedStatistic(items_base=frozenset({'repair-tool'}), items_add=frozenset({'web'}), confidence=0.17341040462427745, lift=2.1848583751622153)]), RelationRecord(items=frozenset({'winter-sports', 'web'}), support=0.0002721523640495756, ordered_statistics=[OrderedStatistic(items_base=frozenset({'winter-sports'}), items_add=frozenset({'web'}), confidence=0.17351973684210525, lift=2.1862358900369063)])]\n"
          ],
          "name": "stdout"
        }
      ]
    },
    {
      "cell_type": "code",
      "metadata": {
        "colab": {
          "base_uri": "https://localhost:8080/"
        },
        "id": "xY77IZpFFdaM",
        "outputId": "81706401-ace4-4c53-a263-ac366a5a9c33"
      },
      "source": [
        "for item in association_results3:\n",
        "    pair = item[0] \n",
        "    items = [x for x in pair]\n",
        "    print(\"Rule: \" + items[0] + \" -> \" + items[1])\n",
        "    print(\"Support: \" + str(item[1]))\n",
        "    print(\"Confidence: \" + str(item[2][0][2]))\n",
        "    print(\"Lift: \" + str(item[2][0][3]))\n",
        "    print(\"=====================================\")"
      ],
      "execution_count": null,
      "outputs": [
        {
          "output_type": "stream",
          "text": [
            "Rule: bathroom-wc-sauna -> web\n",
            "Support: 0.00046820525189571535\n",
            "Confidence: 0.3235294117647059\n",
            "Lift: 4.0762602822879375\n",
            "=====================================\n",
            "Rule: web -> cat\n",
            "Support: 0.00010576537370647014\n",
            "Confidence: 0.17372881355932202\n",
            "Lift: 2.188870120766327\n",
            "=====================================\n",
            "Rule: kitchen -> web\n",
            "Support: 0.000957047649880498\n",
            "Confidence: 0.1790108564535585\n",
            "Lift: 2.2554204277126892\n",
            "=====================================\n",
            "Rule: web -> laptops\n",
            "Support: 0.0010770010615232019\n",
            "Confidence: 0.21279306829765543\n",
            "Lift: 2.6810543372753806\n",
            "=====================================\n",
            "Rule: web -> offices\n",
            "Support: 0.0016819274062589884\n",
            "Confidence: 0.2533022533022533\n",
            "Lift: 3.1914437358818604\n",
            "=====================================\n",
            "Rule: parts-and-accessories -> web\n",
            "Support: 0.002503543784929982\n",
            "Confidence: 0.19068670792808723\n",
            "Lift: 2.402528566561371\n",
            "=====================================\n",
            "Rule: piano-keyboard -> web\n",
            "Support: 0.00024377628817710798\n",
            "Confidence: 0.17847025495750707\n",
            "Lift: 2.248609200273181\n",
            "=====================================\n",
            "Rule: printer-scaner-copier -> web\n",
            "Support: 0.0008370942382377941\n",
            "Confidence: 0.1949534394713127\n",
            "Lift: 2.456286610474497\n",
            "=====================================\n",
            "Rule: repair-tool -> web\n",
            "Support: 7.738929783400254e-05\n",
            "Confidence: 0.17341040462427745\n",
            "Lift: 2.1848583751622153\n",
            "=====================================\n",
            "Rule: winter-sports -> web\n",
            "Support: 0.0002721523640495756\n",
            "Confidence: 0.17351973684210525\n",
            "Lift: 2.1862358900369063\n",
            "=====================================\n"
          ],
          "name": "stdout"
        }
      ]
    }
  ]
}